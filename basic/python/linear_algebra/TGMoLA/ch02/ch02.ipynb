{
 "cells": [
  {
   "cell_type": "markdown",
   "id": "d2c2c351-fa3b-4caa-8079-48dbcc4d4225",
   "metadata": {},
   "source": [
    "## 第二章 向量的基本几何意义"
   ]
  },
  {
   "cell_type": "markdown",
   "id": "4cec0030-8ec5-45ca-937a-e975cc4a379a",
   "metadata": {},
   "source": [
    "自由向量\n",
    "* 有大小、有方向，位置不是固定的\n",
    "* 代数表示：起点位置固定到远点则可以用终点的坐标序列表示\n",
    "* 点是空间中位置，向量则是两点之间的位移"
   ]
  },
  {
   "cell_type": "markdown",
   "id": "491966d7-a93b-4e42-b47a-a9c7d48afcf3",
   "metadata": {},
   "source": [
    "### 向量的加法\n",
    "* 平行四边形法则、多边形法则：依次首尾相连，第一个的起点到最后一个的终点的向量就是和向量\n",
    "* 向量加法是，向量在坐标轴上的投影的合成（有点直线距离的意味）"
   ]
  },
  {
   "cell_type": "code",
   "execution_count": null,
   "id": "1a427571-8539-4f8a-a8c0-6feb9c3da554",
   "metadata": {},
   "outputs": [],
   "source": []
  }
 ],
 "metadata": {
  "kernelspec": {
   "display_name": "Python 3 (ipykernel)",
   "language": "python",
   "name": "python3"
  },
  "language_info": {
   "codemirror_mode": {
    "name": "ipython",
    "version": 3
   },
   "file_extension": ".py",
   "mimetype": "text/x-python",
   "name": "python",
   "nbconvert_exporter": "python",
   "pygments_lexer": "ipython3",
   "version": "3.10.11"
  }
 },
 "nbformat": 4,
 "nbformat_minor": 5
}
