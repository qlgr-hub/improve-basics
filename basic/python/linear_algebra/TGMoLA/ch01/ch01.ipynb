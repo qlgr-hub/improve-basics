{
 "cells": [
  {
   "cell_type": "markdown",
   "id": "9cc01ee5-a402-4246-bf9d-d475ff8e39db",
   "metadata": {},
   "source": [
    "## 第一章 什么是线性代数"
   ]
  },
  {
   "cell_type": "markdown",
   "id": "f7f3f7ec-93c2-4960-8af0-c7f4fa041b52",
   "metadata": {},
   "source": [
    "### 代数\n",
    "* Algebra 源自阿拉伯语，本意是：结合在一起\n",
    "* 用字母等比数字更抽象的对象代替数字进行运算"
   ]
  },
  {
   "cell_type": "markdown",
   "id": "1b91b113-8fd9-44c2-a81f-4eb47490c816",
   "metadata": {},
   "source": [
    "### 线性\n",
    "#### 线性函数（标量）\n",
    "* 可加性：$f(x_1 + x_2) = f(x_1) + f(x_2)$\n",
    "* 比例性：$f(kx) = kf(x)$\n",
    "* 严格意义上 $f(x) = ax + b$ 不是线性函数，因为不满足比例性\n",
    "#### 线性函数的推广（向量）\n",
    "* $\\textbf{y} = f(\\textbf{x}) = \\textbf{K}\\textbf{x}$\n",
    "    * $\\textbf{y} = f(\\textbf{x}) = \\begin{pmatrix} y_1 \\\\ y_2 \\\\ \\vdots \\\\ y_m \\end{pmatrix}$ , $\\textbf{K} = \\begin{bmatrix} k_{11} & k_{12} & \\ldots & k_{1n} \\\\ k_{21} & k_{22} & \\ldots & k_{2n} \\\\ \\vdots & \\vdots & \\space & \\vdots \\\\ k_{m1} & k_{m2} & \\ldots & k_{mn} \\end{bmatrix}$ , $\\textbf{x} = \\begin{pmatrix} x_1 \\\\ x_2 \\\\ \\vdots \\\\ x_n \\end{pmatrix}$\n",
    "#### 多元线性函数\n",
    "* $n$ 元线性方程的几何意义是空间 $R^n$ 中的一个 $n - 1$ 维的超平面（所谓的线性空间）\n",
    "* 不过远点的超平面可以称之为空间，但是不能称之为线性空间\n",
    "* $n$ 个 $n$ 元线性方程组成满秩方程组就可以表示一条直线\n",
    "* 超平面：是个通用的叫法，等同于 $n$ 维空间 $R^n$ 中的一个 $n - 1$ 维的欧式空间（例如：三维空间的二维平面、二维中间中的直线、一维空间中的点等）\n",
    "#### $n$ 维空间的直观理解\n",
    "* 是一个空间套着一个空间的 $n$ 维空间，像洋葱"
   ]
  },
  {
   "cell_type": "markdown",
   "id": "1dcd94b6-74bb-4fc0-a0d3-381810a02f70",
   "metadata": {},
   "source": [
    "### 线性映射 & 线性变换\n",
    "#### 线性映射\n",
    "* 从自变量集合对应映射到因变量集合的瞬间过程\n",
    "* 把线段映射到线段（把向量映射成向量）\n",
    "#### 线性变换\n",
    "* 如果映射是发生在一个集合的同一个坐标系中，线性映射就被称之为线性变换\n",
    "* 使得向量的加法与数乘法关系都不受影响的变换"
   ]
  },
  {
   "cell_type": "code",
   "execution_count": null,
   "id": "409ae443-ce2d-4875-b6d1-f574d6eeb5c7",
   "metadata": {},
   "outputs": [],
   "source": []
  }
 ],
 "metadata": {
  "kernelspec": {
   "display_name": "Python 3 (ipykernel)",
   "language": "python",
   "name": "python3"
  },
  "language_info": {
   "codemirror_mode": {
    "name": "ipython",
    "version": 3
   },
   "file_extension": ".py",
   "mimetype": "text/x-python",
   "name": "python",
   "nbconvert_exporter": "python",
   "pygments_lexer": "ipython3",
   "version": "3.10.11"
  }
 },
 "nbformat": 4,
 "nbformat_minor": 5
}
