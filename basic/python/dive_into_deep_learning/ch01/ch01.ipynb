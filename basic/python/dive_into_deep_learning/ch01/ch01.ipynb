{
 "cells": [
  {
   "cell_type": "markdown",
   "id": "459689ae-b87f-4216-b9ec-32af23f3b89d",
   "metadata": {},
   "source": [
    "* 数据：用来学习\n",
    "* 模型：转换数据\n",
    "* 目标函数：量化模型的有效性（损失函数）\n",
    "* 算法：调整模型参数以优化目标函数"
   ]
  },
  {
   "cell_type": "markdown",
   "id": "2123d932-9ee9-4306-9a83-e47060f8bc3f",
   "metadata": {},
   "source": [
    "* 回归\n",
    "    * 任何有关 ”有多少“ 的问题，很可能就是回归问题\n",
    "    * 回归是训练一个回归函数来输出一个数值\n",
    "    * 损失函数是均方误差\n",
    "* 分类\n",
    "    * ”哪一个“ 的问题，称为分类问题\n",
    "    * 分类是训练一个分类器来输出预测的类别\n",
    "    * 损失函数是交叉熵"
   ]
  },
  {
   "cell_type": "code",
   "execution_count": null,
   "id": "dac116b3-ee69-43f8-884f-950fbfce7d17",
   "metadata": {},
   "outputs": [],
   "source": []
  }
 ],
 "metadata": {
  "kernelspec": {
   "display_name": "Python 3 (ipykernel)",
   "language": "python",
   "name": "python3"
  },
  "language_info": {
   "codemirror_mode": {
    "name": "ipython",
    "version": 3
   },
   "file_extension": ".py",
   "mimetype": "text/x-python",
   "name": "python",
   "nbconvert_exporter": "python",
   "pygments_lexer": "ipython3",
   "version": "3.10.14"
  }
 },
 "nbformat": 4,
 "nbformat_minor": 5
}
