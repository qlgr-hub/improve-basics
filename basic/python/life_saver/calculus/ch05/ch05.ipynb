{
 "cells": [
  {
   "cell_type": "markdown",
   "id": "e2c75466",
   "metadata": {},
   "source": [
    "# 连续性和可导性\n",
    "> 1. 在一点处及在一个区间上连续\n",
    "> 2. 连续函数的一些例子\n",
    "> 3. 连续函数的介值定理\n",
    "> 4. 连续函数的最大值和最小值\n",
    "> 5. 位移、平均速度和瞬时速度\n",
    "> 6. 切线和导数\n",
    "> 7. 二阶导和高阶导\n",
    "> 8. 连续性和可导性的关系"
   ]
  },
  {
   "cell_type": "markdown",
   "id": "af493207",
   "metadata": {},
   "source": [
    "**在一点处连续**\n",
    "> 如果 $\\lim\\limits_{x \\rightarrow a}f(x) = f(a)$ ，函数 f(x) 在点 x = a 处连续。\n",
    "> > (1) 双侧极限 $\\lim\\limits_{x \\rightarrow a}f(x)$ 存在（并且是有限的） \n",
    "> >  \n",
    "> > (2) 函数在 x = a 点处有定义，即 f(a) 存在（并且是有限的）  \n",
    "> >  \n",
    "> > (3) 以上两个量相等，即 $\\lim\\limits_{x \\rightarrow a}f(x) = f(a)$  "
   ]
  },
  {
   "cell_type": "markdown",
   "id": "ddac76f5",
   "metadata": {},
   "source": [
    "**在一个区间上连续**\n",
    "> 如果函数在区间 (a, b) 上的每个点都连续，那么它在该区间上连续。\n",
    ">> (1) 函数 f 在 (a, b) 中的每个点都连续。  \n",
    ">> (2) 函数 f 在点 x = a 处右连续；即，$\\lim\\limits_{x \\rightarrow a^+}f(x)$ 存在（且有限），f(a) 存在，并且这两个量相等；以及  \n",
    ">> (3) 函数 f 在点 x = b 处左连续；即，$\\lim\\limits_{x \\rightarrow b^-}f(x)$ 存在（且有限），f(b) 存在，并且这两个量相等。  \n",
    ">***\n",
    "> 如果函数在其定义域中的所有点都连续，我们就说它是连续的。  "
   ]
  },
  {
   "cell_type": "markdown",
   "id": "31c16196",
   "metadata": {},
   "source": [
    "**连续函数的一些例子**\n",
    "> $\\lim\\limits_{x \\rightarrow -1}\\frac{x^2 - 3x + 2}{x - 2} = -2$ 的原因是，f(x) 除了 x = 2 以外的点是处处连续的，所以有:  \n",
    "> $\\lim\\limits_{x \\rightarrow -1}f(x) = f(-1)$ ；即，将 x = -1 代入函数式子求解出的值就等于 x $\\rightarrow$ -1 时的极限。"
   ]
  },
  {
   "cell_type": "markdown",
   "id": "db8df06c",
   "metadata": {},
   "source": [
    "**介值定理**\n",
    "> 如果 f 在 [a, b] 上连续，并且 f(a) < 0 且 f(b) > 0，那么在区间 (a, b) 上至少有一个点 c ，使得 f(c) = 0 。代之以 f(a) > 0 且 f(b) < 0 ，同样成立。  \n",
    "> * 推广: 对于任意数 M ，如果 f 在 [a, b] 上连续，并且 f(a) < M 且 f(b) > M，那么在区间 (a, b) 上至少有一个点 c ，使得 f(c) = M 。代之以 f(a) > M 且 f(b) < M ，同样成立。 \n",
    ">***\n",
    "> 用介值定理证明奇数次多项式 p(x) 至少有一个根:  \n",
    ">> (1) 由于 $\\lim\\limits_{x \\rightarrow \\infty}\\frac{p(x)}{a_nx^n} = 1$ 并且 $\\lim\\limits_{x \\rightarrow -\\infty}\\frac{p(x)}{a_nx^n} = 1$ （这说明了 p(x) 和 $a_nx^n$ 之间有相同的符号，否则比值是负的）  \n",
    ">>  \n",
    ">> (2) 假设 A 是一个很大的负数，B 是一个很大的正数，由于 n 是一个奇数 $a_nA^n$ 和 $a_nB^n$ 的符号一定相反，又由于 p(x) 和 $a_nx^n$ 之间有相同的符号，所以此时 p(A) p(B) 的符号也是相反的。  \n",
    ">>  \n",
    ">> (3) 由 (1) 、(2) 和介值定理可以推导出: A 和 B之间必定存在个数 c 使得 p(c) = 0，也就是 p(x) 在 (A, B) 区间有根。"
   ]
  },
  {
   "cell_type": "markdown",
   "id": "4c425fda",
   "metadata": {},
   "source": [
    "**连续函数的最大值和最小值**\n",
    "> 最大值和最小值定理: 如果函数 f 在 [a, b] 上连续，那么 f 在 [a, b] 上至少有一个最大值和一个最小值。"
   ]
  },
  {
   "cell_type": "markdown",
   "id": "657b982a",
   "metadata": {},
   "source": [
    "**可导性**\n",
    "> 1. 平均速率: 速率 = $\\frac{距离}{时间}$ $\\rightarrow$ （这其实是平均速率）  \n",
    ">   \n",
    "> 2. 位移和速度: 平均速度 = $\\frac{位移}{时间}$ ，这里需要注意的是 距离 和 位移 不是一个概念（位移是有符号的也就是有方向的，且位移只涉及终点和初始位置；同样 速率 和 速度 也不是一个概念）  \n",
    ">  \n",
    "> 3. 瞬时速度: 在时刻 t 的瞬时速度 = $\\lim\\limits_{u \\rightarrow t}v_{t \\leftrightarrow u}$ （其中 v 是 [t, u] 上的平均速度，u 是 t 之后的一个很近的时刻）   \n",
    "> 令 f(t) = 汽车在时刻 t 的位置，则 $v_{t \\leftrightarrow u} = \\frac{在时刻 u 的位置 - 在时刻 t 的位置}{u - t} = \\frac{f(u) - f(t)}{u - t}$，那么，在时刻 t 的瞬时速度 = $\\lim\\limits_{u \\rightarrow t}\\frac{f(u) - f(t)}{u - t}$。令 h = u - t 则，在时刻 t 的瞬时速度 = $\\lim\\limits_{h \\rightarrow 0}\\frac{f(t + h) - f(t)}{h}$  \n",
    ">   \n",
    "> 例子:  \n",
    "> f(t) = $15t^2 + 7$ ，在时刻 t 的瞬时速度 = $\\lim\\limits_{h \\rightarrow 0}\\frac{f(t + h) - f(t)}{h} = \\lim\\limits_{h \\rightarrow 0}\\frac{(15(t + h)^2 + 7) - (15t^2 + 7)}{h}$ ，展开 $(t + h)^2 = t^2 + 2th + h^2$ 进一步化简，$\\lim\\limits_{h \\rightarrow 0}\\frac{15t^2 + 30th + 15h^2 + 7 - 15t^2 - 7}{h} = \\lim\\limits_{h \\rightarrow 0}\\frac{30th + 15h^2}{h} = \\lim\\limits_{h \\rightarrow 0}(30t + 15h)$  \n",
    "在时刻 t 的瞬时速度 = $\\lim\\limits_{h \\rightarrow 0}(30t + 15h)$ 代入 $h \\rightarrow 0$ ，则 在时刻 t 的瞬时速度 = 30t"
   ]
  },
  {
   "cell_type": "markdown",
   "id": "124e1a9f",
   "metadata": {},
   "source": [
    "**速度的图像**"
   ]
  },
  {
   "cell_type": "code",
   "execution_count": 47,
   "id": "517bd15c",
   "metadata": {},
   "outputs": [
    {
     "data": {
      "text/plain": [
       "Text(8.3, 945, '(u, f(u))')"
      ]
     },
     "execution_count": 47,
     "metadata": {},
     "output_type": "execute_result"
    },
    {
     "data": {
      "image/png": "[encoded data removed]",
      "text/plain": [
       "<Figure size 640x480 with 1 Axes>"
      ]
     },
     "metadata": {},
     "output_type": "display_data"
    }
   ],
   "source": [
    "import numpy as np\n",
    "import matplotlib.pyplot as plt\n",
    "\n",
    "t = np.linspace(0, 10, 100)\n",
    "y = 15 * t**2 + 7\n",
    "\n",
    "\n",
    "plt.plot(t, y, color='k')\n",
    "plt.xlim(0, 11)\n",
    "plt.ylim(0, 1500)\n",
    "plt.xlabel(\"time\")\n",
    "plt.ylabel(\"displacement\")\n",
    "\n",
    "plt.xticks([4, 8], ['t', 'u'])\n",
    "plt.yticks([0], ['0'])\n",
    "\n",
    "plt.vlines([4, 8], 0, 1400, linestyles='dotted', colors='gray')\n",
    "# help(plt.vlines)\n",
    "\n",
    "plt.plot([4], [247], marker='.', color='red')\n",
    "plt.plot([8], [967], marker='.', color='red')\n",
    "plt.plot([3,9], [67,1147], linestyle='dashed', color='gray')\n",
    "\n",
    "plt.annotate(\"(t, f(t))\", xy=(4, 247), xytext=(4.3, 225))\n",
    "plt.annotate(\"(u, f(u))\", xy=(8, 967), xytext=(8.3, 945))"
   ]
  },
  {
   "cell_type": "markdown",
   "id": "7e20fc04",
   "metadata": {},
   "source": [
    "上图中，斜率 = $\\frac{f(u) - f(t)}{u - t}$ ，由于瞬时速度 = $\\lim\\limits_{u \\rightarrow t}\\frac{f(u) - f(t)}{u - t}$ ，于是瞬时速度就是通过点 (t, f(t)) 的切线的斜率（因为 u 无限接近于 t）。"
   ]
  },
  {
   "cell_type": "markdown",
   "id": "3f78323f",
   "metadata": {},
   "source": [
    "**导数**\n",
    "> 函数 f(x) 在点 (a, f(a)) 处的切线的斜率=$\\lim\\limits_{x \\rightarrow a}\\frac{f(x) - f(a)}{x - a}$，也就是说这个切线的斜率是对 x 的一个函数，我们称此函数为函数 f(x) 的导数，记作: $f^\\prime(x)$ 。如果令 h = x - a 则有 $f^\\prime(x) = \\lim\\limits_{h \\rightarrow 0}\\frac{f(x + h) - f(x)}{h}$ 。（这里就是研究速度和位置、时间的关系时得到的启发；速度是位置关于时间的导数！！！！！）  \n",
    ">***\n",
    "> 上式中的 h 代表了对 x 做了多少变化所以可以用一个更好的符号 $\\Delta x$ 代替，其中 $\\Delta$ 代表“在 ...... 中的变化”。所以导数公式可以写做:  \n",
    " $f^\\prime(x) = \\lim\\limits_{h \\rightarrow 0}\\frac{f(x + \\Delta x) - f(x)}{\\Delta x}$  \n",
    ">  \n",
    "> 由 (x, y) 开始，其中 y = f(x)，现在取一个新的 x 记作 $x_新$ ，则由 $y_新 = f(x_新)$ 。$\\Delta x = x_新 - x$ $\\Rightarrow$ $\\Delta y = y_新 - y$ $\\Rightarrow$   \n",
    "$\\Delta y = y_新 - y = f(x_新) - f(x) = f(x + \\Delta x) - f(x)$ $\\Rightarrow$  \n",
    "$f^\\prime(x) = \\lim\\limits_{\\Delta x \\rightarrow 0}\\frac{\\Delta y}{\\Delta x}$  \n",
    ">***\n",
    "> $\\Delta x$ 中的 $\\Delta$ 代表了 x 中的变化，由于导数是变化趋于 0 时，所以可以考虑用 dx 这种符号表示 x 的一个十分微小的变化（要多少有多少那种），也有类似的 dy 表示 y 的一个十分微小的变化，则导数 $f^\\prime(x)$ 可以用 $\\frac{dy}{dx}$ 代替，即 $f^\\prime(x) = \\frac{dy}{dx}$  \n",
    ">  \n",
    "> 这样可读性更好些，例如: 对 $y = x^2$ 导数计算可以写成 $f^\\prime(x) = \\frac{dy}{dx} = \\frac{d(x^2)}{dx} = \\frac{d}{dx}(x^2) = 2x$   \n",
    ">\n",
    "> *这里需要注意的是 $\\frac{dy}{dx}$ 不是一个分数，它是 $\\Delta x \\rightarrow 0$ 时分数 $\\frac{\\Delta y}{\\Delta x}$ 的极限*"
   ]
  },
  {
   "cell_type": "markdown",
   "id": "db981132",
   "metadata": {},
   "source": [
    "**线性函数、常数函数的导数**\n",
    "> 1. 线性函数固定的斜率 所以其导数就是曲线的斜率是个常数。\n",
    "> 2. 对于常数函数其斜率总是0 所以其导数就是 0 。"
   ]
  },
  {
   "cell_type": "markdown",
   "id": "c736a78e",
   "metadata": {},
   "source": [
    "**二阶导数和更高阶导数**\n",
    "> 函数 f(x) 求一次导数得到 $f^\\prime(x)$ ，而 $f^\\prime(x)$ 本身也是个函数对它求导得到的函数 对于 f(x) 来说就是其二阶导数，记作: $f^{\\prime\\prime}(x)$ 也可以用 $\\frac{d^2y}{dx^2}$ 代替 $f^{\\prime\\prime}(x)$，即 $f^{\\prime\\prime}(x) = \\frac{d^2y}{dx^2}$  \n",
    "> 例如: y = f(x) = $x^2$  \n",
    "$f^{\\prime\\prime}(x) = \\frac{d^2y}{dx^2} = \\frac{d^2(x^2)}{dx^2} = \\frac{d^2}{dx^2}(x^2) = 2$  \n",
    ">***\n",
    "> 以此类推 f(x) 的三阶导数可以记作 $f^{(3)}(x) = f^{\\prime\\prime\\prime}(x) = \\frac{d^3y}{dx^3} = \\frac{d^3}{dx^3}(y)$ ，可以按照这个记法推导出更高介的导数的表示  \n",
    ">  \n",
    "> $f^{(n)}(x)$ 的表示形式对高阶导数比较友好（不用写那么多撇），甚至可以用 $f^{(0)}(x)$ 表示没求导，从而代表 f(x) 本身。\n"
   ]
  },
  {
   "cell_type": "markdown",
   "id": "75f0797d",
   "metadata": {},
   "source": [
    "**何时导数不存在**\n",
    "> 从图像上看存在尖点的位置导数不存在。\n",
    ">***\n",
    "> y = |x| $f^\\prime(x) = \\lim\\limits_{h\\rightarrow 0}\\frac{|x + h| - |x|}{h}$ ，当 x = 0 时 $f^\\prime(0) = \\lim\\limits_{h\\rightarrow 0}\\frac{|h|}{h}$ ，它不存在。所以这个函数在 x = 0 处不可导。  \n",
    ">\n",
    "> 但是 $\\lim\\limits_{h\\rightarrow 0^+}\\frac{|x + h| - |x|}{h}$ ，$\\lim\\limits_{h\\rightarrow 0^-}\\frac{|x + h| - |x|}{h}$ 都存在，右极限是 1 、左极限是 -1 。这就可以从左右极限的概念激发处左右导数的概念。也就是 y = |x| 在 x < 0 时左可导、x > 0 时右可导、x = 0 时不可导。"
   ]
  },
  {
   "cell_type": "markdown",
   "id": "0e540aba",
   "metadata": {},
   "source": [
    "**可导性和连续性**\n",
    "> 可导函数必连续，但是连续函数不一定可导（作者说存在每个 x 点上都有尖点的怪异函数，它是连续的，还说它可以用于股价建模）。\n",
    ">   \n",
    "> 可导则说明 $\\lim\\limits_{h\\rightarrow 0}\\frac{f(x + h) - f(x)}{h}$ 存在，又由于 $\\lim\\limits_{h\\rightarrow 0}h = 0$ $\\Rightarrow$  \n",
    "$\\lim\\limits_{h\\rightarrow 0}\\frac{f(x + h) - f(x)}{h}\\times h = \\lim\\limits_{h\\rightarrow 0}\\frac{f(x + h) - f(x)}{h}\\times \\lim\\limits_{h\\rightarrow 0}h = 0$ $\\Rightarrow$ $\\lim\\limits_{h\\rightarrow 0}(f(x + h) - f(x)) = 0$，又由于 f(x)不依赖 h 的变化 $\\Rightarrow$ $\\big(\\lim\\limits_{h\\rightarrow 0}f(x + h)\\big) - f(x) = 0$ $\\Rightarrow$ $\\lim\\limits_{h\\rightarrow 0}f(x + h) = f(x)$ 。这就说明 f(x) 是连续的。"
   ]
  },
  {
   "cell_type": "code",
   "execution_count": null,
   "id": "41ee29f9",
   "metadata": {},
   "outputs": [],
   "source": []
  }
 ],
 "metadata": {
  "kernelspec": {
   "display_name": "Python 3 (ipykernel)",
   "language": "python",
   "name": "python3"
  },
  "language_info": {
   "codemirror_mode": {
    "name": "ipython",
    "version": 3
   },
   "file_extension": ".py",
   "mimetype": "text/x-python",
   "name": "python",
   "nbconvert_exporter": "python",
   "pygments_lexer": "ipython3",
   "version": "3.7.16"
  }
 },
 "nbformat": 4,
 "nbformat_minor": 5
}
