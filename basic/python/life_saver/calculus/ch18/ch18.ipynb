{
 "cells": [
  {
   "cell_type": "markdown",
   "id": "c481b289",
   "metadata": {},
   "source": [
    "# 积分的方法1\n",
    "> 1. 换元法（也可以叫变量替换）  \n",
    "> 2. 部分积分  \n",
    "> 3. 使用部分分式对有理函数求积分"
   ]
  },
  {
   "cell_type": "markdown",
   "id": "60f6b4a9",
   "metadata": {},
   "source": [
    "**换元法**\n"
   ]
  }
 ],
 "metadata": {
  "kernelspec": {
   "display_name": "Python 3 (ipykernel)",
   "language": "python",
   "name": "python3"
  },
  "language_info": {
   "codemirror_mode": {
    "name": "ipython",
    "version": 3
   },
   "file_extension": ".py",
   "mimetype": "text/x-python",
   "name": "python",
   "nbconvert_exporter": "python",
   "pygments_lexer": "ipython3",
   "version": "3.7.16"
  }
 },
 "nbformat": 4,
 "nbformat_minor": 5
}
