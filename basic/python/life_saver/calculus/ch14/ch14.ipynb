{
 "cells": [
  {
   "cell_type": "markdown",
   "id": "8d706ec8",
   "metadata": {},
   "source": [
    "# 洛必达法则及极限问题总结\n",
    "> 1. 洛必达法则及使用该法则的四种极限情况  \n",
    "> 2. 对计算极限的方法进行总结  "
   ]
  },
  {
   "cell_type": "markdown",
   "id": "26b1b040",
   "metadata": {},
   "source": [
    "**洛必达法则**\n",
    ">***\n",
    "> 类型A :  \n",
    ">>$\n",
    "如果极限是分式的形式，例如 \\lim\\limits_{x\\rightarrow a}\\frac{f(x)}{g(x)} ，\\color{red}{要检查形式是否是不定式}。该分式一定为 \\frac{0}{0} 或 \\frac{\\pm\\infty}{\\pm\\infty} 则，使用洛必达法则 \\lim\\limits_{x\\rightarrow a}\\frac{f(x)}{g(x)} =^{1'H} \\lim\\limits_{x\\rightarrow a}\\frac{f^\\prime(x)}{g^\\prime(x)} \\color{red}{特别注意，这里求导中，请不要使用商法则。不过可以继续使用洛必达法则！！！！！}。\n",
    "$  \n",
    ">***\n",
    "> 类型B1 :  \n",
    ">>$\n",
    "如果求差的极限，例如 \\lim\\limits_{x\\rightarrow a}(f(x) - g(x)) ，该分式为 \\pm(\\infty - \\infty) ，求解该极限的方法时通分或同时乘以除以一个共轭表达式 \\\\\n",
    "从而转化为类型 A 。\\color{red}{（不过不一定把把都能转成 A）}。\n",
    "$  \n",
    ">***\n",
    "> 类型B2 :  \n",
    ">>$\n",
    "如果极限是乘积的形式，例如 \\lim\\limits_{x\\rightarrow a}(f(x)g(x)) ，该分式为 (0 \\times \\pm\\infty) ，选择两个因式中较简单的那个取倒数把它移到分母 \\\\\n",
    "（尽量不要选用对数做分母，把它留在分子）。这样就转化为 \\lim\\limits_{x\\rightarrow a}(f(x)g(x)) = \\lim\\limits_{x\\rightarrow a}\\frac{g(x)}{\\frac{1}{f(x)}} 。这是典型的类型 A 。\n",
    "$  \n",
    ">***\n",
    "> 类型C :  \n",
    ">>$\n",
    "如果极限为指数形式，并且该指数的底数和指数部分都含变量，例如 \\lim\\limits_{x\\rightarrow a}f(x)^{g(x)} ，首先，我们取其对数: \\lim\\limits_{x\\rightarrow a}ln\\big(f(x)^{g(x)}\\big) = \\\\\n",
    "\\lim\\limits_{x\\rightarrow a}g(x)ln(f(x)) 。这样转化为类型 B2 或 A（或者转化后的结果不是不定式，这时不得不想其它的技巧）。一旦你已经求解出了， \\\\\n",
    "这时就有 \\lim\\limits_{x\\rightarrow a}g(x)ln(f(x)) = L ，然后再两边同时取指数，可得 \\lim\\limits_{x\\rightarrow a}f(x)^{g(x)} = e^L 。\n",
    "$ "
   ]
  },
  {
   "cell_type": "markdown",
   "id": "3efdcf4e",
   "metadata": {},
   "source": [
    "**关于极限的总结**\n",
    "> 求解 $\\lim\\limits_{x\\rightarrow a}F(x)$ 形式的极限，F 是一个至少在 a 点附近连续的函数，但在 a 点可能不连续，a 也可能是 $\\infty$ 或 $-\\infty$ 。  \n",
    ">***\n",
    "> 总体思路:  \n",
    ">>$\n",
    "1. 首先尝试使用替换法 \\\\   \n",
    "-\\quad如果替换导致出现 b/\\infty 或 b/(-\\infty) 的形式，b是个限定的数，那么该极限结果是 0 。 \\\\\n",
    "-\\quad如果替换之后的形式为 b/0 ，但 b 不为 0 ，这时说明该函数有垂直渐近线，即左极限或右极限为 \\infty 或 -\\infty 那么双侧极限 \\\\\n",
    "\\quad\\quad或者不存在或者为 \\infty 或 -\\infty 。使用在 x = a 点附近的符号表格去查找左极限和右极限 \\\\\n",
    "-\\quad如果不是上述任何一种情况，那么该极限就是 0/0 形式。首先看它是否为倒数定义的形式（倒数伪装的极限）。如果你可以把它改写为 \\\\\n",
    "\\quad\\quad某种特定函数关于特定的数 x 的倒数形式 \\lim\\limits_{h\\rightarrow 0}\\frac{f(h + x) - f(x)}{h} ，这时该极限为 f^\\prime(x) 。\\\\\n",
    "\\quad\\quad其实这种也可以用\\color{red}{洛必达法则}求解。 \\\\\n",
    "-\\quad如果极限有根号，那么可以考虑分母有理化或分子有理化的方法。\\\\\n",
    "-\\quad如果极限有绝对值，那么要考虑把绝对值符号去掉，即把该函数转化为分段函数的形式。 \\\\\n",
    "\\quad\\quad|A| = \\begin{cases}\n",
    "A \\quad 如果 A \\geq 0 \\\\\n",
    "-A \\quad 如果 A < 0 \n",
    "\\end{cases} \\\\\n",
    "\\quad\\quad记得把上式中所有的五个 A 都替换为你正在处理的问题中需要去掉绝对值的具体表达式！ \\\\\n",
    "-\\quad另外可以利用不同函数的特性帮助你解决问题。极限中“无穷小”意味着“趋于 0”，“无穷大”意味着正无限大的数或负无限大的数。\n",
    "$  \n",
    ">>>$\n",
    "（1）多项式或多项式型函数: \\\\\n",
    "-\\quad 一般方法 \\Rightarrow 尝试因式分解，然后把公因式约掉。 \\\\\n",
    "-\\quad 大讨论 \\Rightarrow 最大次数的项决定该极限的值。 \\\\\n",
    "（2）三角函数和反三角函数: \\\\\n",
    "-\\quad 一般方法 \\Rightarrow 记住所有三角函数和反三角函数的图像，以及它们在特殊点处的函数值。 \\\\\n",
    "-\\quad 小讨论 \\Rightarrow 当 A 是个很小的数时，sin(A) 和 A 的数值非常接近，所以可以乘以 A 并除以 A。对 tan(A) 可以用同样的方法。 \\\\\n",
    "\\quad\\quad但是cos(A) 不可以。因为 A 趋于 0 时 cos(A) 趋于 1.当仅涉及乘法或商时该方法实用。但是加减形式就不管用了。 \\\\\n",
    "-\\quad 大讨论 \\Rightarrow 对于正弦或余弦函数，我们可以利用它们的特性 |sin(任意数) 或 cos(任意数)| \\leq 1 。这个特性可以于 \\\\\n",
    "\\quad\\quad三明治定理一起使用。还有其他的一些 \\lim\\limits_{x\\rightarrow\\infty}tan^{-1}(x) = \\frac{\\pi}{2} 和 \\lim\\limits_{x\\rightarrow-\\infty}tan^{-1}(x) = -\\frac{\\pi}{2}（非正式地，你可以 \\\\\n",
    "\\quad\\quad这样来记 tan^{-1}(\\infty)=\\frac{\\pi}{2} 和 tan^{-1}(-\\infty)=-\\frac{\\pi}{2} ，但要确保真的理解了它的涵义！！！！！ ）\\\\\n",
    "（3）指数函数: \\\\\n",
    "-\\quad 一般方法 \\Rightarrow 要记住 y = e^x 的图像，也要知道下列两个极限 \\lim\\limits_{h\\rightarrow 0}(1 + hx)^{1/h} = e^x 和 \\lim\\limits_{x\\rightarrow\\infty}(1 + \\frac{x}{n})^n = e^x \\\\\n",
    "-\\quad 小讨论 \\Rightarrow 因为 e^0 = 1 ，所以当极限的表达式中有该因式时，完全可以用 1 代替它。但是当极限中有和或差形式的时候问题就 \\\\\n",
    "\\quad\\quad没那么简单了。这时你不得不考虑用洛必达法则或导数的定义去求解。 \\\\\n",
    "-\\quad 大讨论 \\Rightarrow 记住以下两个重要的极限 \\lim\\limits_{x\\rightarrow\\infty}e^x = \\infty 和 \\lim\\limits_{x\\rightarrow-\\infty}e^x = 0 。仅仅为替换目的可以记作 e^{\\infty} = \\infty 和 e^{-\\infty} = 0 \\\\\n",
    "\\quad\\quad当然也要记住 \\lim\\limits_{x\\rightarrow\\infty}\\frac{多项式}{e^x} = 0 。底数是任意大于 1 的数，x 可以是任意最高项系数为正数的多项式，总之指数增长很快。 \\\\\n",
    "（4）对数函数: \\\\\n",
    "-\\quad 一般方法 \\Rightarrow 需要知道 y = ln(x) 的图像以及对数运算法则。 \\\\\n",
    "-\\quad 小讨论 \\Rightarrow 一个很重要的极限 \\lim\\limits_{x\\rightarrow 0^+}ln(x) = -\\infty （也可以仅为了记住记作ln(0^+) = -\\infty）。当 x\\rightarrow 0^+ 时， \\\\\n",
    "\\quad\\quad对数函数缓慢的趋于 -\\infty ，即对于任何大于 0 的 a ，无论 a 有多小都有 \\lim\\limits_{x\\rightarrow 0^+}x^aln(x) = 0 \\\\\n",
    "-\\quad 大讨论 \\Rightarrow 我们有 \\lim\\limits_{x\\rightarrow\\infty}ln(x) = \\infty（也可以仅为了记住记作ln(\\infty) = \\infty）。不管怎么说，对数函数增长很缓慢， \\\\\n",
    "\\quad\\quad比任何多项式都慢，即对于任何次数为正的多项式都有 \\lim\\limits_{x\\rightarrow\\infty}\\frac{ln(x)}{多项式} = 0 。 \\\\\n",
    "-\\quad 函数在 1 附近的情况 \\Rightarrow 我们有 ln(1) = 0 。此时，洛必达法则可能是很有用的，对于这种极限或者也可以使用极限的定义解决。\n",
    "$  \n",
    "  \n",
    ">>$ 2. 如果上述的方法都不能解决问题，那么考虑使用洛必达法则。在使用洛必达法则以后，总是会得到一个新的极限，我们可以考虑使用上述的任何方法 \\\\ \n",
    "\\quad或再次使用洛必达法则。\n",
    "$"
   ]
  },
  {
   "cell_type": "code",
   "execution_count": null,
   "id": "eb2a9176",
   "metadata": {},
   "outputs": [],
   "source": []
  }
 ],
 "metadata": {
  "kernelspec": {
   "display_name": "Python 3 (ipykernel)",
   "language": "python",
   "name": "python3"
  },
  "language_info": {
   "codemirror_mode": {
    "name": "ipython",
    "version": 3
   },
   "file_extension": ".py",
   "mimetype": "text/x-python",
   "name": "python",
   "nbconvert_exporter": "python",
   "pygments_lexer": "ipython3",
   "version": "3.7.16"
  }
 },
 "nbformat": 4,
 "nbformat_minor": 5
}
