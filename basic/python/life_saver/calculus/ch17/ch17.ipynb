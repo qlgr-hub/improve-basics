{
 "cells": [
  {
   "cell_type": "markdown",
   "id": "0eda2f52",
   "metadata": {},
   "source": [
    "# 微积分基本定理\n",
    "> 1. 用另一个函数的积分形式来表示的函数  \n",
    "> 2. 第一基本定理，以及反导数的基本思想  \n",
    "> 3. 第二基本定理   \n",
    "> 4. 不定积分和它的性质  \n",
    "> 5. 以第一基本定理为基础的问题  \n",
    "> 6. 计算不定积分  \n",
    "> 7. 计算定积分以及使用第二基本定理计算面积  "
   ]
  },
  {
   "cell_type": "markdown",
   "id": "fdc7d9c5",
   "metadata": {},
   "source": [
    "**用其它函数的积分来表示的函数**\n",
    ">$\n",
    "\\int_{0}^{1}x^2dx = \\frac{1}{3} \\quad \\int_{0}^{2}x^2dx = \\frac{8}{3} \\quad 这两个是我们通过求利曼和计算出来的，那么\\int_{1}^{任意数}x^2dx =多少呢？ 用利曼和计算就不太方便了， \\\\\n",
    "那么我们可以设这个任意数为 x 则有 ，\\int_{1}^{x}x^2dx ， 但是这里我们只是想表示积分上限是个变量反而跟虚拟变量 x 冲突了。那么我们定虚拟变量 \\\\\n",
    "为 t ，则有 \\int_{0}^{x}t^2dt 。令 F(x) = \\int_{0}^{x}t^2dt , 那么推广到通用的情况就有 F(x) = \\int_{0}^{x}f(t)dt ，这样 F(x) 就是 f(x) 的积分表示的函数了。 \\\\\n",
    "\\quad \\\\\n",
    "这里有个规律，在 a 是个常数的情况下有（根据定积分的性质），F(x) = \\int_{0}^{x}f(t)dt = \\int_{0}^{a}f(t)dt + \\int_{a}^{x}f(t)dt ，这里\\int_{0}^{a}f(t)dt 是个常数，\\\\\n",
    "令H(x) = \\int_{a}^{x}f(t)dt 则，F(x) = C + H(x)，即\\color{blue}{改变 a 的值仅仅使函数增加或减少一个常数}。\n",
    "$"
   ]
  },
  {
   "cell_type": "markdown",
   "id": "b8704721",
   "metadata": {},
   "source": [
    "**微积分第一基本定理**\n",
    "> 我们的目的是不用求解利曼和求积分值。  \n",
    ">***   \n",
    ">$\n",
    "F(x) = \\int_{a}^{x}f(t)dt ，这个是上一节的用其它函数的积分表示的函数，我们对它求导会咋样？即，F^\\prime(x) = \\frac{d}{dx}\\int_{a}^{x}f(t)dtv \\\\\n",
    "根据导数经典公式有，\\lim\\limits_{h\\rightarrow 0}\\frac{F(x + h) - F(x)}{h} \\quad 根据积分的性质，F(x + h) = \\int_{a}^{x + h}f(t)dt = \\int_{a}^{x}f(t)dt + \\int_{x}^{x+h}f(t)dt = F(x) + \\int_{x}^{x+h}f(t)dt \\\\\n",
    "\\Rightarrow\\quad F(x + h) - F(x) = \\int_{x}^{x+h}f(t)dt ，如果画函数的图像就会发现  F(x + h) - F(x) = \\int_{x}^{x+h}f(t)dt \\approx hf(x) ，两边同时除以 h 则\\quad\\Rightarrow \\\\\n",
    "\\frac{F(x + h) - F(x)}{h} \\approx f(x) \\quad\\Rightarrow\\quad \\lim\\limits_{h\\rightarrow 0}\\frac{F(x + h) - F(x)}{h} = f(x) , 这就说明 F(x) 是用 f(x) 的积分定义的函数，对 F(x) 求导后就等于 f(x) 。 \n",
    "$  \n",
    ">***  \n",
    "> 微积分第一基本定理:  \n",
    ">>$\n",
    "如果函数 f(x) 在闭区间 [a, b] 上是连续的，定义 F 为 F(x) = \\int_{a}^{x}f(t)dt ，x\\in[a,b] \\quad, 则 F 在开区间 (a, b) 上是可导函数且 F^\\prime(x) = f(x) \\\\\n",
    "即，\\color{red}{\\frac{d}{dx}\\int_{a}^{x}f(t)dt = f(x)} 。\\color{blue}{如果两个函数有相同的导数，那么它们的差是个常数。} \\\\\n",
    "\\quad\\\\\n",
    "这里我们引入一个新的概念叫\\color{red}{反导数}，即 F(x) = \\int_{a}^{x}f(t)dt \\quad\\Rightarrow\\quad F^\\prime(x) = f(x)，这里我们就说 F(x) 是 f(x) 的反导数。 \\\\ \n",
    "\\color{blue}{一个函数有多个反导数这些反导数之间互相都差一个常数}。\n",
    "$"
   ]
  },
  {
   "cell_type": "markdown",
   "id": "3908d420",
   "metadata": {},
   "source": [
    "**微积分第二基本定理**\n",
    "> 微积分第一基本定理:  \n",
    ">>$\n",
    "如果函数 f 在闭区间 [a, b] 上连续的，F 是 f 的任意一个反导数（关于 x 的），那么有，\\int_{a}^{b}f(x)dx = F(b) - F(a) \\\\\n",
    "通常可以简写为 F(x)\\mid_{a}^{b} = F(b) - F(a)\n",
    "$"
   ]
  },
  {
   "cell_type": "markdown",
   "id": "d14d1c91",
   "metadata": {},
   "source": [
    "**不定积分**\n",
    "> 我们已经找到了两种求解定积分的方法: 1. 利曼和的极限（太繁琐了），2. 反导数（不算太糟糕）。这里主要是求一个函数的反导数需要非常熟练才行。  \n",
    "> 可以用 $\\int f(x)dx$ 表示“函数 f(x) 的反导数的集合”。$\\color{blue}{任何可积函数都有无限多个反导数，它们唯一的不同是常数部分}$。  \n",
    "> $\\frac{d}{dx}F(x) = f(x)$ ，那么 $\\int f(x)dx = F(x) + C$ 这就是不定积分。$\\color{blue}{定积分表示函数曲线以及两个区间端点的垂直线与 x 轴所围成图像的面积，而不定积分是函数的反导数的集合}$。  \n",
    ">***\n",
    ">不定积分的性质:  \n",
    ">>如果 f 和 g 是可积函数，x 是一个常数，$ \\\\\n",
    "\\int(f(x) + g(x))dx = \\int f(x)dx + \\int g(x)dx \\\\\n",
    "\\int cf(x)dx = c\\int f(x)dx\n",
    "$  \n",
    ">***\n",
    ">$\n",
    "1. \\frac{d}{dx}\\int_{a}^{x}f(t)dt = f(x) \\quad\\Rightarrow\\quad \\color{blue}{积分的导数就是原始的函数。} \\\\\n",
    "2. \\int_{a}^{b}\\frac{d}{dx}F(x)dx = F(x)\\mid_a^b \\quad\\Rightarrow\\quad \\color{blue}{函数的导数的积分就是这个函数本身。} \\\\\n",
    "\\color{blue}{积分和求导是相反的运算。}\n",
    "$"
   ]
  },
  {
   "cell_type": "markdown",
   "id": "0ae14b14",
   "metadata": {},
   "source": [
    "**怎样解决问题: 微积分的第一基本定理**\n",
    "> $\n",
    "(1)\\quad 变量是积分上限 \\frac{d}{dx}\\int_{3}^{x}sin(t^2)dt = sin(x^2) \\quad\\Rightarrow\\quad \\frac{d}{dx}\\int_{a}^{x}f(t)dt = f(x)\\color{blue}{（也就是这个的计算是把 f(t) 提取出将 t 替换成 x）}\\\\\n",
    "(2)\\quad 变量是积分下限 \\frac{d}{dx}\\int_{x}^{a}f(t)dt = -f(x) \\quad\\Rightarrow\\quad \\color{blue}{（积分上下限替换后多个负号，然后按照(1)的方法计算即可）} \\\\\n",
    "(3)\\quad 积分上限或下限是个函数 \\frac{d}{dx}\\int_{g(x)}^{a}f(t)dt \\quad 或 \\quad \\frac{d}{dx}\\int_{a}^{g(x)}f(t)dt \\color{blue}{（积分上限是函数的可以用链式求导法则求解， \\\\\n",
    "\\quad\\quad积分下限是函数的先用(2)的方法替换积分上下限再用链式求导法则）} \\\\\n",
    "(4)\\quad 积分上限和下限都是函数 \\frac{d}{dx}\\int_{g(x)}^{h(x)}f(t)dt \\quad  \\color{blue}{（先在积分区间内找个常数将积分拆解成两个积分的和，这样就会出现两个(3)形式的积分 \\\\\n",
    "\\quad\\quad 分别按照(3)分方法求解即可）} \\\\\n",
    "(5)\\quad 导数伪装的极限，\\color{red}{这个的难点是发现它}\n",
    "$"
   ]
  },
  {
   "cell_type": "markdown",
   "id": "4bfbb739",
   "metadata": {},
   "source": [
    "**怎样解决问题: 微积分的第二基本定理**\n",
    "> 用第二定理计算定积分  \n",
    "> 1. 首先，求定积分也就是反导数（其实就是利用了这种思想: 知道导数是什么的那么这个导数的反导数怎么求？）:  \n",
    ">>$\n",
    "1.\\quad\\frac{d}{dx}x^a = ax^{a - 1} \\quad\\Rightarrow\\quad \\int x^adx = \\frac{x^{a+1}}{a+1} + C （如果 a\\neq-1） \\\\\n",
    "2.\\quad\\frac{d}{dx}ln(x) = \\frac{1}{x} \\quad\\Rightarrow\\quad \\int\\frac{1}{x}dx = ln|x| + C \\\\\n",
    "3.\\quad\\frac{d}{dx}e^x = e^x \\quad\\Rightarrow\\quad \\int e^xdx = e^x + C \\\\\n",
    "4.\\quad\\frac{d}{dx}b^x = b^xln(b) \\quad\\Rightarrow\\quad \\int b^xdx = \\frac{b^x}{ln(b)} + C \\\\\n",
    "5.\\quad\\frac{d}{dx}sin(x) = cos(x) \\quad\\Rightarrow\\quad \\int cos(x)dx = sin(x) + C \\\\\n",
    "6.\\quad\\frac{d}{dx}cos(x) = -sin(x) \\quad\\Rightarrow\\quad \\int sin(x)dx = -cos(x) + C \\\\\n",
    "7.\\quad\\frac{d}{dx}tan(x) = sec^2(x) \\quad\\Rightarrow\\quad \\int sec^2(x)dx = tan(x) + C \\\\\n",
    "8.\\quad\\frac{d}{dx}sec(x) = sec(x)tan(x) \\quad\\Rightarrow\\quad \\int sec(x)tan(x)dx = sec(x) + C \\\\\n",
    "9.\\quad\\frac{d}{dx}cot(x) = -csc^2(x) \\quad\\Rightarrow\\quad \\int csc^s(x)dx = -cot(x) + C \\\\\n",
    "10.\\quad\\frac{d}{dx}csc(x) = -csc(x)cot(x) \\quad\\Rightarrow\\quad \\int csc(x)cot(x)dx = -csc(x) + C \\\\\n",
    "11.\\quad\\frac{d}{dx}sin^{-1}(x) = \\frac{1}{\\sqrt{1 - x^2}} \\quad\\Rightarrow\\quad \\int \\frac{1}{\\sqrt{1 - x^2}}dx = sin^{-1}(x) + C \\\\\n",
    "12.\\quad\\frac{d}{dx}tan^{-1}(x) = \\frac{1}{1 + x^2} \\quad\\Rightarrow\\quad \\int \\frac{1}{1 + x^2}dx = tan^{-1}(x) + C \\\\\n",
    "13.\\quad\\frac{d}{dx}sec^{-1}(x) = \\frac{1}{|x|\\sqrt{x^2 - 1}} \\quad\\Rightarrow\\quad \\int \\frac{1}{|x|\\sqrt{x^2 - 1}}dx = sec^{-1}(x) + C \\\\\n",
    "14.\\quad\\frac{d}{dx}sinh(x) = cosh(x) \\quad\\Rightarrow\\quad \\int cosh(x)dx = sinh(x) + C \\\\\n",
    "15.\\quad\\frac{d}{dx}cosh(x) = sinh(x) \\quad\\Rightarrow\\quad \\int sinh(x)dx = cosh(x) + C \\\\\n",
    "\\color{blue}{这些微分公式中，如果用 ax 替换 x ，那么把每个公式乘以 a 就可以了。}\n",
    "$  \n",
    ">***\n",
    "> 2. 接下来就是根据第二基本定理求解定积分了。"
   ]
  },
  {
   "cell_type": "code",
   "execution_count": null,
   "id": "39119653",
   "metadata": {},
   "outputs": [],
   "source": []
  }
 ],
 "metadata": {
  "kernelspec": {
   "display_name": "Python 3 (ipykernel)",
   "language": "python",
   "name": "python3"
  },
  "language_info": {
   "codemirror_mode": {
    "name": "ipython",
    "version": 3
   },
   "file_extension": ".py",
   "mimetype": "text/x-python",
   "name": "python",
   "nbconvert_exporter": "python",
   "pygments_lexer": "ipython3",
   "version": "3.7.16"
  }
 },
 "nbformat": 4,
 "nbformat_minor": 5
}
