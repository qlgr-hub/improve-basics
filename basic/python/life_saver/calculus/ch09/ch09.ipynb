{
 "cells": [
  {
   "cell_type": "markdown",
   "id": "220400a7",
   "metadata": {},
   "source": [
    "# 指数函数和对数函数\n",
    "> 1. 回顾指数函数和对数函数的基本知识，以及两者是如何相互关联的  \n",
    "> 2. e 的定义和性质  \n",
    "> 3. 如何对指数函数和对数函数求导  \n",
    "> 4. 如何求解涉及指数函数及对数函数的极限问题  \n",
    "> 5. 对数函数的微分  \n",
    "> 6. 指数增长和指数衰变  \n",
    "> 7. 双曲函数  "
   ]
  },
  {
   "cell_type": "markdown",
   "id": "75e7f7bb",
   "metadata": {},
   "source": [
    "**基础知识**\n",
    "> 首先需要知道的基本性质: 1.指数法则、2.指数和对数的关系、3.对数法则  \n",
    "> 指数函数 $底数^{指数}$ ，对于任意的底数 b > 0 和实数 x 、y:  \n",
    ">> （1）$b^0 = 1$ ，（2）$b^1 = b$ ，（3）$b^x\\cdot b^y = b^{x + y}$ ，（4）$\\frac{b^x}{b^y} = b^{x - y}$ ，（3）$(b^x)^y = b^{x\\cdot y}$    \n",
    ">***\n",
    "> 对数函数:  \n",
    ">> $log_b(y) 是为了得到 y 你必须将底数 b 提升的幂次，对于给定的 b 和 y ，x = log_b(y) 是方程 b^x = y 的解 b^{log_b(y)} = y$  \n",
    ">>  \n",
    ">> 对于任意的底数 b > 1 和正正数 x 、y 有:   \n",
    ">> （1）$log_b(1) = 0$ ，（2）$log_b(b) = 1$ ，（3）$log_b(xy) = log_b(x) + log_b(y)$ ，（4）$log_b(\\frac{x}{y}) = log_b(x) - log_b(y)$ ，（5）$log_b(x^y) = y\\cdot log_b(x)$ ，（6）$log_b(x) = \\frac{log_c(x)}{log_c(b)}$ $\\color{red}{（换底法则）}$  \n",
    ">> $\\color{blue}{换底法则告诉我们，所有不同底数的对数函数其实是互为常数倍的（函数图像上是常数倍拉伸的效果！！！！！）}$  \n",
    ">***\n",
    "> $\\color{blue}{常识1: 对数的指数就是原始的数，即 b^{log_b(x)} = x \\quad 指数的对数也是原始的数，即 log_b(b^x) = x}$  \n",
    ">  \n",
    "> $\\color{blue}{常识2: 对于指数函数我们为了避开一些怪异的问题（如: b = -1 ，x = \\frac{1}{2} 时就会出现\\sqrt{-1}），所以一般都假定底数 b > 0}$  \n",
    ">  \n",
    "> $\\color{blue}{常识3: 由于 b > 0 ，且任何介于 0 和 1 的对数有对于所有的 y ，log_b(y) = -log_{\\frac{1}{b}}(y) ，所以我们总是假定对数函数的底数 b > 1}$  \n",
    ">***\n",
    "> 第一步: 从 $b^{log_b(A)} = A$ 出发，令 $A = x^y$ 则，$b^{log_b(x^y)} = x^y$  \n",
    "> 第二步: 从 $b^{log_b(A)} = A$ 出发，令 $A = x$ 则，$b^{log_b(x)} = x$ ，再对等式两边同时提升为其 y 次幂则，$\\big(b^{log_b(x)}\\big)^y = x^y$  \n",
    "> $\\Rightarrow x^y = b^{log_b(x^y)} = b^{ylog_b(x)}$ ，即 $b^{log_b(x^y)} = b^{ylog_b(x)}$ 等式两边取底数为 b 的对数则，$log_b(x^y) = ylog_b(x)$ ，这就证明了$\\color{red}{法则（5）}$"
   ]
  },
  {
   "cell_type": "markdown",
   "id": "0fd980d3",
   "metadata": {},
   "source": [
    "**e 的定义**\n",
    "> 首先，年利率为 r ，一年计 n 次复利，t 年后的财富 = $A\\big(1 + \\frac{r}{n}\\big)^{nt}$ 。\n",
    "> 现在假设我们存 1 美元（A = 1）开始，来看看一年（t = 1）后发生什么，然后看看如果一年中复利计算越来越频繁时极限会怎样: $L = \\lim\\limits_{n\\rightarrow \\infty}\\big(1 + \\frac{r}{n}\\big)^n$  \n",
    ">  \n",
    "> 这里令 $h = \\frac{r}{n}$ 则，$L = \\lim\\limits_{h\\rightarrow 0^+}(1 + h)^{\\frac{r}{h}} = \\lim\\limits_{h\\rightarrow 0^+}\\big((1 + h)^{\\frac{1}{h}}\\big)^r$ ，令 $e = \\lim\\limits_{h\\rightarrow 0^+}(1 + h)^{\\frac{1}{h}}$ 则，$L = \\lim\\limits_{h\\rightarrow 0^+}\\big((1 + h)^{\\frac{1}{h}}\\big)^r = e^r$ 虽然这里只求了右极限但是可以令 t = -h 再结合 $a^{-x} = \\frac{1}{a^x}$ 的性质可以推导出左极限也是相等的。  \n",
    ">  \n",
    "> $\\color{blue}{结论: 以年利率 r 连续计算复利，t 年后的财富 = Ae^rt \\quad\\quad e（这个魔数）= 2.718 281 828 459 045 23...}$  \n",
    "> 以 e 为底的对数的写法有很多种 $log_e(x) ，log(x) ，ln(x) ...$  \n",
    ">***\n",
    ">$\\color{blue}{\n",
    "公式总结（后续计算种很有用）:  \n",
    "1. \\lim\\limits_{n\\rightarrow\\infty}\\big(1 + \\frac{x}{n}\\big)^n = e^x ，\\lim\\limits_{h\\rightarrow 0}(1 + xh)^{\\frac{1}{h}} = e^x\\quad和\\quad x = 1 \\quad时\\quad\\lim\\limits_{n\\rightarrow\\infty}\\big(1 + \\frac{1}{n}\\big)^n = e ，\\lim\\limits_{h\\rightarrow 0}(1 + h)^{\\frac{1}{h}} = e\n",
    "}$"
   ]
  },
  {
   "cell_type": "markdown",
   "id": "e005508c",
   "metadata": {},
   "source": [
    "**对数函数指数函数求导**\n",
    "> 设 $g(x) = log_b(x)$ ，求它的导数: $g^\\prime(x) = \\lim\\limits_{h\\rightarrow 0}\\frac{g(x + h) - g(x)}{h} = \\lim\\limits_{h\\rightarrow 0}\\frac{log_b(x + h) - log_b(x)}{h} = \\lim\\limits_{h\\rightarrow 0}\\frac{1}{h}log_b\\big(\\frac{x + h}{x}\\big)$ ，由 $\\lim\\limits_{h\\rightarrow 0}(1 + rh)^{\\frac{1}{h}} = e^r \\quad 用\\frac{1}{x}替换 r \\quad \\lim\\limits_{h\\rightarrow 0}(1 + \\frac{h}{x})^{\\frac{1}{h}} = e^{\\frac{1}{x}} \\quad\\Rightarrow\\quad g^\\prime(x) = \\lim\\limits_{h\\rightarrow 0}log_b\\big(\\frac{x + h}{x}\\big)^{\\frac{1}{h}} = log_b(e^{\\frac{1}{x}}) \\quad\\Rightarrow\\quad \\frac{d}{dx}log_b(x) = \\frac{1}{x}log_b(e)$  \n",
    ">  \n",
    "> 如果 b = e 则 $\\frac{d}{dx}log_e(x) = \\frac{1}{x}log_e(e) = \\frac{1}{x}\\quad\\Rightarrow\\quad \\frac{d}{dx}ln(x) = \\frac{1}{x}$  \n",
    ">  \n",
    "> 由于 $log_b(e) = \\frac{log_e(e)}{log_e(b)} = \\frac{1}{ln(b)} \\quad\\Rightarrow\\quad \\frac{d}{dx}log_b(x) = \\frac{1}{xln(b)}$  \n",
    ">  \n",
    "> 设 $y = b^x$ ，求它的导数: $y = b^x \\quad\\Rightarrow\\quad x = log_b(y) \\quad\\Rightarrow\\quad \\frac{dx}{dy} = \\frac{1}{yln(b)} \\quad\\Rightarrow\\quad \\frac{dy}{dx} = yln(b) \\quad\\Rightarrow\\quad \\frac{d}{dx}(b^x) = ln(b)\\cdot b^x$  \n",
    "> 如果 b = e 则 $\\frac{d}{dx}(e^x) = ln(e)\\cdot e^x = e^x$ ，所以这里出现了个特殊的函数 $e^x$ 它的导数是它本身（二阶、三阶、四阶、...都是本身）  \n",
    ">***\n",
    "> 求 $y = e^{-3x}$ 的导数:  \n",
    "> 令 u = -3x ，则 $y = e^u$ ，根据链式求导法则有 $\\frac{dy}{dx} = \\frac{dy}{du}\\frac{du}{dx} = e^u \\cdot(-3) = -3e^{-3x}$  \n",
    "> $\\color{blue}{常识: \\frac{d}{dx}e^{ax} = ae^{ax} ，就是用 ax 替换 x 时，求导时在最前面多一个 a（与三角函数的一样）\\\\ 但是对于对数函数就没有这种的，如: \\frac{d}{dx}ln(8x) = 8 \\times \\frac{1}{8x} = \\frac{1}{x}，因为根据对数法则 ln(8x) = ln(8) + ln(x) 所以导数相同也就不奇怪了}$  \n",
    ">***\n",
    "> $\\lim\\limits_{h\\rightarrow 0}(1 + 3h^2)^{\\frac{1}{3h^2}} \\quad由\\quad \\lim\\limits_{h\\rightarrow 0}(1 + h)^{\\frac{1}{h}} = e \\quad\\Rightarrow\\quad \\lim\\limits_{h\\rightarrow 0}(1 + 3h^2)^{\\frac{1}{3h^2}} = e \\quad这里唯一需要注意的是 h\\rightarrow 0 时 3h^2\\rightarrow 0 成立$   \n",
    "> $\\color{blue}{形如 \\lim\\limits_{h\\rightarrow 0}(1 + h)^{\\frac{1}{h}} 的式子中 只要替换 h 的部分对称且 h\\rightarrow 0 时替换的部分也满足趋于 0 则可以直接替换使用}$  \n",
    ">***\n",
    "> $\\lim\\limits_{h\\rightarrow 0}(1 + h^2)^{\\frac{1}{3h^2}} = \\lim\\limits_{h\\rightarrow 0}(1 + h^2)^{\\frac{1}{h^2}\\times\\frac{1}{3}} = \\lim\\limits_{h\\rightarrow 0}\\big((1 + h^2)^{\\frac{1}{h^2}}\\big)^{\\frac{1}{3}} = e^{\\frac{1}{3}}$   \n",
    "> $\\lim\\limits_{h\\rightarrow 0}(1 - 5h^3)^{\\frac{2}{h^3}} = \\lim\\limits_{h\\rightarrow 0}(1 - 5h^3)^{\\frac{1}{-5h^3}\\times{-10}} = \\lim\\limits_{h\\rightarrow 0}\\big((1 - 5h^3)^{\\frac{1}{-5h^3}}\\big)^{-10} = e^{-10}$   \n",
    ">***\n",
    "> $\\color{blue}{常识: 求极限时如果指数项出现在乘积或商中时将它单独拆出来计算，其余部分再单独化简计算很由效率}$  \n",
    ">***\n",
    "> 指数函数在 0 附近的行为:  \n",
    ">> $\\lim\\limits_{h\\rightarrow 0}\\frac{e^h - 1}{h}$ 这个看似难但是仔细看的话是个导数伪装的极限问题，$f^\\prime(x) = \\lim\\limits_{h\\rightarrow 0}\\frac{e^{x + h} - e^x}{h} = e^x$ ，当 x = 0 代入后 $\\lim\\limits_{h\\rightarrow 0}\\frac{e^{h} - 1}{h} = 1$  \n",
    "\n",
    "> 对数函数在 1 附近的行为:    \n",
    ">> $\\lim\\limits_{h\\rightarrow 0}\\frac{ln(1 + h)}{h}$ 这个看似难但是仔细看的话是个导数伪装的极限问题，$f^\\prime(x) = \\lim\\limits_{h\\rightarrow 0}\\frac{ln(x + h) - ln(x)}{h} = \\frac{1}{x}$ ，当 x = 1 代入后 $\\lim\\limits_{h\\rightarrow 0}\\frac{ln(1 + h)}{h} = 1$  \n",
    "\n",
    "> 指数函数在 $\\infty$ 或 $-\\infty$ 附近的行为  \n",
    ">> $ \\lim\\limits_{x\\rightarrow\\infty}r^x = \n",
    "\\begin{cases}\n",
    "\\infty \\quad 如果 r > 1 \\\\\n",
    "1 \\quad 如果 r = 1 \\\\\n",
    "0 \\quad 如果 0 \\leq r < 1\n",
    "\\end{cases}\n",
    "$ $\\quad\\quad \\lim\\limits_{x\\rightarrow\\infty}\\frac{x^n}{e^x} = 0$ $\\quad\\color{red}{指数增长迅速！！！！！}$  \n",
    ">> $\\lim\\limits_{x\\rightarrow -\\infty}(x^5 + 3)^{101}e^x$ ，令 t = -x 则由 $x\\rightarrow -\\infty$ 时 $t\\rightarrow +\\infty \\quad\\Rightarrow$ $ \\lim\\limits_{x\\rightarrow -\\infty}(x^5 + 3)^{101}e^x = \\lim\\limits_{t\\rightarrow +\\infty}\\frac{(-t^5 + 3)^{101}}{e^t} = 0$  \n",
    "\n",
    "> 对数函数在 $\\infty$ 附近的行为  \n",
    ">> $\\lim\\limits_{x\\rightarrow\\infty}ln(x) = \\infty \\quad\\quad \\lim\\limits_{x\\rightarrow\\infty}\\frac{ln(x)}{x^a} = 0（a > 0）$ $\\quad\\color{red}{对数增长缓慢！！！！！}$  \n",
    ">>  \n",
    ">> $\\lim\\limits_{x\\rightarrow\\infty}\\frac{ln(x)}{x^a} \\quad用 e^t 代入 x \\Rightarrow\\quad \\lim\\limits_{x\\rightarrow\\infty}\\frac{ln(e^t)}{(e^t)^a} = \\lim\\limits_{x\\rightarrow\\infty}\\frac{t}{e^{at}} = 0$  \n",
    "\n",
    "> 对数函数在 0 附近的行为  \n",
    ">> $\\lim\\limits_{x\\rightarrow 0^+}ln(x) = -\\infty \\quad\\quad \\lim\\limits_{x\\rightarrow 0^+}x^aln(x) = 0（a > 0）$ $\\quad\\color{red}{对数函数 0 附近的“增长”缓慢！！！！！}$  \n",
    ">>  \n",
    ">> $\\lim\\limits_{x\\rightarrow 0^+}xln(x) \\quad用 x = \\frac{1}{}t 代入 x \\Rightarrow\\quad \\lim\\limits_{t\\rightarrow\\infty}\\frac{1}{t}ln(\\frac{1}{t}) = \\lim\\limits_{t\\rightarrow\\infty}\\frac{-ln(t)}{t} = 0$  \n",
    ">>  \n",
    ">> $\\color{blue}{常识: 用 \\frac{1}{t} 代替 x 可以将对数函数 0 附近的问题转化为在 \\infty 附近的问题}$"
   ]
  },
  {
   "cell_type": "markdown",
   "id": "10f3a121",
   "metadata": {},
   "source": [
    "**$\\color{red}{取对数求导法}$**\n",
    "> 求 $y = x^{sin(x)}$ 的导数:  \n",
    ">> $ x^{sin(x)} = e^{ln(x^{sin(x)})} = e^{sin(x)ln(x)} \\quad 令 \\quad  u = sin(x) \\quad v = ln(x) \\quad s = u \\cdot v \\quad  y = e^s \\quad 则 \\\\\n",
    "1. \\frac{du}{dx} = cos(x) \\\\\n",
    "2. \\frac{dv}{dx} = \\frac{1}{x} \\\\\n",
    "3. \\frac{ds}{dx} = v\\frac{du}{dx} + u\\frac{dv}{dx} = ln(x)cos(x) + sin(x)\\frac{1}{x} \\\\ \n",
    "4. y = e^s = e^{sin(x)ln(x)} = e^{ln(x^{sin(x)})} = x^{sin(x)} \\\\\n",
    "\\frac{d}{dx}\\big(x^{sin(x)}\\big) = \\frac{d}{dx}\\big(e^{sin(x)ln(x)}\\big) = \\frac{dy}{dx} = \\frac{dy}{ds}\\frac{ds}{dx} = e^s(ln(x)cos(x) + sin(x)\\frac{1}{x}) = \\big(ln(x)cos(x) + \\frac{sin(x)}{x}\\big)x^{sin(x)}\n",
    "$  \n",
    ">***\n",
    "> $\\color{blue}{\n",
    "求 y = f(x)^{g(x)} 类型的导数的技巧: \\\\\n",
    "（1）设 y 是要求导的 x 的函数，对等号两边取（自然）对数，这样右边的指数 g 就移下来了，得到: ln(y) = g(x)ln(f(x)) \\\\\n",
    "（2）对等号两边关于 x 做隐函数求导，右边常常用到各种求导法则、左边是 (\\frac{1}{y})\\frac{dy}{dx}，整体如: (\\frac{1}{y})\\frac{dy}{dx} = 关于 x 的一堆东西... \\\\\n",
    "（3）用 y 和等式两边相乘会得到单独的 \\frac{dy}{dx} 这一项，然后用原始的表达式 f(x)^{g(x)} 替换 y 就完成了。\n",
    "}$"
   ]
  },
  {
   "cell_type": "markdown",
   "id": "81121c09",
   "metadata": {},
   "source": [
    "**指数增长和指数衰变**\n",
    ">$ y = e^{kx} \\quad\\Rightarrow\\quad \\frac{dy}{dx} = ke^{kx} = ky \\quad 这是个 \\color{red}{微分方程} \\\\\n",
    "\\color{blue}{如果 \\frac{dy}{dx} = ky ，那么 y = Ae^{kx} ，其中 A 为某个常数} \\\\\n",
    "用 t 替换 x 则\\quad\\frac{dy}{dt} = ky \\quad说明了这个量的变化率取决于这个量的大小（k 称为\\color{red}{增长常数} ，一定程度上影响增长快慢）\n",
    "$  \n",
    ">***\n",
    "> 指数增长:  \n",
    ">>$ 动物种群指数增长方程 P(t) = P_0e^{kt}\\quad t 是时间\\quad P_0 是初始总数\\quad P(t) 是总数随时间的变化的函数\n",
    "$  \n",
    ">***\n",
    "> 指数衰变:  \n",
    ">>$ 放射性原子的指数衰变方程 P(t) = P_0e^{-kt}\\quad t 是时间\\quad P_0 是初始总数\\quad P(t) 是总数随时间的变化的函数 \\\\\n",
    "放射性原子需要 t_{\\frac{1}{2}} 的时间才会数量减半 t_{\\frac{1}{2}} 称为\\color{red}{半衰期} \\\\\n",
    "\\color{blue}{对于半衰期为 t_{\\frac{1}{2}} 的放射性衰变，P(t) = P_0e^{-kt}，其中 k（衰变常数） = \\frac{ln(2)}{t_{\\frac{1}{2}}}}\n",
    "$"
   ]
  },
  {
   "cell_type": "markdown",
   "id": "0c8fec49",
   "metadata": {},
   "source": [
    "**双曲函数**\n",
    "> 双曲函数其实是伪装的指数函数。 $\\color{red}{不是三角函数，但是有些性质上跟三角函数很像（但又不完全相同）}$  \n",
    "> $ cosh(x) = \\frac{e^x + e^{-x}}{2} \\\\\n",
    "sinh(x) = \\frac{e^x - e^{-x}}{2} \\\\\n",
    "\\frac{d}{dx}(sinh(x)) = cosh(x) \\\\\n",
    "\\frac{d}{dx}(cosh(x)) = sinh(x) \\\\\n",
    "1 - tanh^2(x) = sech^2(x) \\\\\n",
    "\\frac{d}{dx}(tanh(x)) = sech^2(x) \\\\\n",
    "\\frac{d}{dx}(sech(x)) = -sech(x)tanh(x) \\\\\n",
    "\\frac{d}{dx}(csch(x)) = -csch(x)coth(x) \\\\\n",
    "\\frac{d}{dx}(coth(x)) = -csch^2(x) \\\\\n",
    "$"
   ]
  },
  {
   "cell_type": "code",
   "execution_count": 10,
   "id": "83e2c180",
   "metadata": {},
   "outputs": [
    {
     "data": {
      "text/plain": [
       "[<matplotlib.lines.Line2D at 0x1caf955afc8>]"
      ]
     },
     "execution_count": 10,
     "metadata": {},
     "output_type": "execute_result"
    },
    {
     "data": {
      "image/png": "[encoded data removed]",
      "text/plain": [
       "<Figure size 640x480 with 1 Axes>"
      ]
     },
     "metadata": {},
     "output_type": "display_data"
    }
   ],
   "source": [
    "import numpy as np\n",
    "import matplotlib.pyplot as plt\n",
    "\n",
    "x = np.linspace(-5, 5, 1000)\n",
    "y1 = np.sinh(x)\n",
    "y2 = np.cosh(x)\n",
    "\n",
    "plt.plot(x, y1)\n",
    "plt.plot(x, y2)"
   ]
  },
  {
   "cell_type": "code",
   "execution_count": null,
   "id": "1bfdaab3",
   "metadata": {},
   "outputs": [],
   "source": []
  }
 ],
 "metadata": {
  "kernelspec": {
   "display_name": "Python 3 (ipykernel)",
   "language": "python",
   "name": "python3"
  },
  "language_info": {
   "codemirror_mode": {
    "name": "ipython",
    "version": 3
   },
   "file_extension": ".py",
   "mimetype": "text/x-python",
   "name": "python",
   "nbconvert_exporter": "python",
   "pygments_lexer": "ipython3",
   "version": "3.7.16"
  }
 },
 "nbformat": 4,
 "nbformat_minor": 5
}
