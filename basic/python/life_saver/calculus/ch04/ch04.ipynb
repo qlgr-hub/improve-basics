{
 "cells": [
  {
   "cell_type": "markdown",
   "id": "8ced0059",
   "metadata": {},
   "source": [
    "# 求解多项式的极限问题\n",
    "> 1. x $\\rightarrow$ a 时的有理函数  \n",
    "> 2. x $\\rightarrow$ a 时的涉及平方根的函数  \n",
    "> 3. x $\\rightarrow$ $\\infty$ 时的有理函数  \n",
    "> 4. x $\\rightarrow$ $\\infty$ 时的类多项式（或“多项式型”）函数的比  \n",
    "> 5. x $\\rightarrow$ $-\\infty$ 时的有理函数/多项式函数  \n",
    "> 6. 涉及绝对值的函数"
   ]
  },
  {
   "cell_type": "markdown",
   "id": "fab51729",
   "metadata": {},
   "source": [
    "**x $\\rightarrow$ a 时的有理函数的极限**\n",
    "> $\\lim\\limits_{x \\rightarrow a}\\frac{p(x)}{q(x)}$ $\\quad$ 两个多项式之比被称作有理函数。（分母不为 0 时 a 代入 x 就是极限值）  \n",
    ">  \n",
    "> 例如: $\\lim\\limits_{x \\rightarrow -1}\\frac{x^2 - 3x + 2}{x - 2} = \\frac{(-1)^2 - 3(-1) + 2}{-1 - 2} = \\frac{6}{-3} = -2$  \n",
    ">  \n",
    "> $\\frac{0}{0}$ 型 *不定式* 通过因式分解简化（就是让他不再$\\frac{0}{0}$），后代入 a 求解极限\n",
    "> \n",
    "> 一些常用因式分解技巧: $x^2 -3x + 2 = (x - 2)(x - 1)$ $\\quad$ $a^3 - b^3 = (a - b)(a^2 + ab + b^2)$  \n",
    ">  \n",
    "> 例子 $\\lim\\limits_{x \\rightarrow 3}\\frac{x^3 - 27}{x^4 -5x^3 + 6x^2} = \\lim\\limits_{x \\rightarrow 3}\\frac{(x - 3)(x^2 + 3x + 9)}{x^2(x - 3)(x - 2)} = \\lim\\limits_{x \\rightarrow 3}\\frac{x^2 + 3x + 9}{x^2(x - 2)} = \\frac{3^2 + 3 \\cdot 3 + 9}{3^2(3 - 2)} = 3$  \n",
    ">***\n",
    "> 如果只有分母是 0 则，说明有理函数的图像在你感兴趣的 x 值上会有一条垂直渐近线。有如下 4 中情况（要根据感兴趣点的前后值时的结果的符号确定是哪一种情况）  \n",
    "> 1. $\\lim\\limits_{x \\rightarrow a^+}f(x) = \\infty \\quad \\lim\\limits_{x \\rightarrow a^-}f(x) = -\\infty \\quad \\lim\\limits_{x \\rightarrow a}f(x)  \\rightarrow DNE$  \n",
    "> 2. $\\lim\\limits_{x \\rightarrow a^+}f(x) = \\infty \\quad \\lim\\limits_{x \\rightarrow a^-}f(x) = \\infty \\quad \\lim\\limits_{x \\rightarrow a}f(x) = \\infty$  \n",
    "> 1. $\\lim\\limits_{x \\rightarrow a^+}f(x) = -\\infty \\quad \\lim\\limits_{x \\rightarrow a^-}f(x) = \\infty \\quad \\lim\\limits_{x \\rightarrow a}f(x)  \\rightarrow DNE$  \n",
    "> 2. $\\lim\\limits_{x \\rightarrow a^+}f(x) = -\\infty \\quad \\lim\\limits_{x \\rightarrow a^-}f(x) = -\\infty \\quad \\lim\\limits_{x \\rightarrow a}f(x) = -\\infty$  "
   ]
  },
  {
   "cell_type": "markdown",
   "id": "7dace21a",
   "metadata": {},
   "source": [
    "**x $\\rightarrow$ a 时的平方根的极限**\n",
    "> 例如求解，$\\lim\\limits_{x \\rightarrow 5}\\frac{\\sqrt{x^2 - 9} - 4}{x - 5}$，也是 $\\frac{0}{0}$ 型不定式，需要分子分母同时乘以 $\\sqrt{x^2 - 9} + 4$ 也就是 $\\sqrt{x^2 - 9} - 4$ 的 *共轭表达式* 。  \n",
    "> $\\lim\\limits_{x \\rightarrow 5}\\frac{\\sqrt{x^2 - 9} - 4}{x - 5} = \\lim\\limits_{x \\rightarrow 5}\\frac{\\sqrt{x^2 - 9} - 4}{x - 5} \\times \\frac{\\sqrt{x^2 - 9} + 4}{\\sqrt{x^2 - 9} + 4} = \\lim\\limits_{x \\rightarrow 5}\\frac{x^2 - 25}{(x - 5)(\\sqrt{x^2 - 9} + 4)} = \\lim\\limits_{x \\rightarrow 5}\\frac{(x - 5)(x + 5) }{(x - 5)(\\sqrt{x^2 - 9} + 4)} = \\lim\\limits_{x \\rightarrow 5}\\frac{x + 5 }{\\sqrt{x^2 - 9} + 4} = \\frac{10}{8} = \\frac{5}{4}$"
   ]
  },
  {
   "cell_type": "markdown",
   "id": "19b8a924",
   "metadata": {},
   "source": [
    "**x $\\rightarrow \\infty$ 时的有理函数的极限**\n",
    "> $\\lim\\limits_{x \\rightarrow \\infty}\\frac{p(x)}{q(x)}$，首先要知道 $p(x) = 3x^3 - 1000x^2 + 5x - 7$ 的首相是 $p_L(x) = 3x^3$ ，当 x 变的非常非常大时 $p(x)$ 和 $p_L(x)$ 会相对地非常接近，更确切的说: $\\lim\\limits_{x \\rightarrow \\infty}\\frac{p(x)}{p_L(x)} = 1$  \n",
    ">  \n",
    "> $\\lim\\limits_{x \\rightarrow \\infty}\\frac{p(x)}{p_L(x)} = \\lim\\limits_{x \\rightarrow \\infty}\\frac{3x^3 - 1000x^2 + 5x - 7}{3x^3} = \\lim\\limits_{x \\rightarrow \\infty}1 - \\lim\\limits_{x \\rightarrow \\infty}\\frac{1000}{3x} + \\lim\\limits_{x \\rightarrow \\infty}\\frac{5}{3x^2} - \\lim\\limits_{x \\rightarrow \\infty}\\frac{7}{3x^3}$ （在所有极限都是有限时，和的极限等于极限的和）  \n",
    ">  \n",
    "> 其中需要知道: $\\lim\\limits_{x \\rightarrow \\infty}C = C$ 和 $\\lim\\limits_{x \\rightarrow \\infty}\\frac{C}{x^n} = 0$  \n",
    ">  \n",
    "> 所以: $\\lim\\limits_{x \\rightarrow \\infty}\\frac{3x^3 - 1000x^2 + 5x - 7}{3x^3} = \\lim\\limits_{x \\rightarrow \\infty}\\big(1 - \\frac{1000}{3x} + \\frac{5}{3x^2} - \\frac{7}{3x^3} \\big) = 1 - 0 + 0 - 0 = 1$  \n",
    ">***\n",
    "> 技巧: $x \\rightarrow \\infty$ 时，当遇到求解极限的多项式 p(x) 是多余一项的时可以用 $\\frac{p(x)}{p(x)的首项} \\times {p(x)的首项}$  \n",
    ">***\n",
    "> $\\lim\\limits_{x \\rightarrow \\infty}\\frac{p(x)}{q(x)}$ 或 $\\lim\\limits_{x \\rightarrow -\\infty}\\frac{p(x)}{q(x)}$ 求解相关方法的结论:  \n",
    "> 1. 如果 p 的次数等于 q 的次数，则极限是有限的且非零。  \n",
    "> 2. 如果 p 的次数大于 q 的次数，则极限是 $\\infty$ 或 $-\\infty$。  \n",
    "> 3. 如果 p 的次数小于 q 的次数，则极限是零。"
   ]
  },
  {
   "cell_type": "markdown",
   "id": "161e2bca",
   "metadata": {},
   "source": [
    "**x $\\rightarrow \\infty$ 时的多项式型函数的极限**\n",
    "> $f(x) = x^3 + 4x^2 -5x^{\\frac{2}{3}} + 1 \\quad,\\quad g(x) = \\sqrt{x^9 - 7x^2 + 2} \\quad,\\quad h(x) = x^4 - \\sqrt{x^3 + \\sqrt[5]{x^2 - 2x + 3}}$  \n",
    "> 它们含有分数、次数或n次根，所以不是多项式，但是很像多项式，多项式函数的方法对它们也都适用。\n",
    ">***"
   ]
  },
  {
   "cell_type": "markdown",
   "id": "85efdd7a",
   "metadata": {},
   "source": [
    "**x $\\rightarrow -\\infty$ 时的有理函数的极限**\n",
    "> 求解时简化的过程跟趋于 $\\infty$ 时的一样，就是最终求结果时需要注意两种情况下结果的符号不一样。  \n",
    ">  \n",
    "> 还有要注意的是求多次根时，如果 x < 0，并且想写 $\\sqrt[n]{x^某次幂} = x^m$ ，那么需要在 $x^m$ 之前加一个负号的唯一情形时，n 是偶的而 m 是奇数。"
   ]
  },
  {
   "cell_type": "markdown",
   "id": "db2f42b8",
   "metadata": {},
   "source": [
    "**包含绝对值的函数的极限**\n",
    "> 根据绝对值内部的符号，考虑两个或多个不同 x 的区间。"
   ]
  },
  {
   "cell_type": "code",
   "execution_count": 2,
   "id": "3d928440",
   "metadata": {},
   "outputs": [
    {
     "data": {
      "text/plain": [
       "[<matplotlib.lines.Line2D at 0x1f518838048>]"
      ]
     },
     "execution_count": 2,
     "metadata": {},
     "output_type": "execute_result"
    },
    {
     "data": {
      "image/png": "[encoded data removed]",
      "text/plain": [
       "<Figure size 640x480 with 1 Axes>"
      ]
     },
     "metadata": {},
     "output_type": "display_data"
    }
   ],
   "source": [
    "import numpy as np\n",
    "import matplotlib.pyplot as plt\n",
    "\n",
    "\n",
    "x1 = np.arange(-10, 0, 0.1)\n",
    "x2 = np.arange(0.0000001, 10, 0.1)\n",
    "y1 = np.abs(x1) / x1\n",
    "y2 = np.abs(x2) / x2\n",
    "plt.plot(x1, y1)\n",
    "plt.plot(x2, y2)"
   ]
  },
  {
   "cell_type": "code",
   "execution_count": 6,
   "id": "36f178b2",
   "metadata": {},
   "outputs": [
    {
     "data": {
      "text/plain": [
       "[<matplotlib.lines.Line2D at 0x1f5189a8f88>]"
      ]
     },
     "execution_count": 6,
     "metadata": {},
     "output_type": "execute_result"
    },
    {
     "data": {
      "image/png": "[encoded data removed]",
      "text/plain": [
       "<Figure size 640x480 with 1 Axes>"
      ]
     },
     "metadata": {},
     "output_type": "display_data"
    }
   ],
   "source": [
    "import numpy as np\n",
    "import matplotlib.pyplot as plt\n",
    "\n",
    "\n",
    "x1 = np.arange(-10, -2, 0.1)\n",
    "x2 = np.arange(-2.01, 8, 0.1)\n",
    "y1 = np.abs(x1 + 2) / (x1 + 2)\n",
    "y2 = np.abs(x2 + 2) / (x2 + 2)\n",
    "plt.plot(x1, y1)\n",
    "plt.plot(x2, y2)"
   ]
  },
  {
   "cell_type": "code",
   "execution_count": null,
   "id": "31be2920",
   "metadata": {},
   "outputs": [],
   "source": []
  }
 ],
 "metadata": {
  "kernelspec": {
   "display_name": "Python 3 (ipykernel)",
   "language": "python",
   "name": "python3"
  },
  "language_info": {
   "codemirror_mode": {
    "name": "ipython",
    "version": 3
   },
   "file_extension": ".py",
   "mimetype": "text/x-python",
   "name": "python",
   "nbconvert_exporter": "python",
   "pygments_lexer": "ipython3",
   "version": "3.7.16"
  }
 },
 "nbformat": 4,
 "nbformat_minor": 5
}
