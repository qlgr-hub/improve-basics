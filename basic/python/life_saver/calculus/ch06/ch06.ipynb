{
 "cells": [
  {
   "cell_type": "markdown",
   "id": "1fac7feb",
   "metadata": {},
   "source": [
    "# 求解微分问题\n",
    "> 1. 使用定义求导  \n",
    ">  \n",
    "> 2. 使用乘积法则、商法则和链式求导法则  \n",
    ">  \n",
    "> 3. 求切线的方程  \n",
    ">  \n",
    "> 4. 速度和加速度\n",
    ">  \n",
    "> 5. 求导数伪装的极限  \n",
    ">  \n",
    "> 6. 如何对分段函数求导  \n",
    ">  \n",
    "> 7. 使用一个函数的图像画出其导数的图像  "
   ]
  },
  {
   "cell_type": "markdown",
   "id": "e18a5c3d",
   "metadata": {},
   "source": [
    "**使用定义求导**\n",
    "> 导数公式: $f^\\prime(x) = \\lim\\limits_{h \\rightarrow 0}\\frac{f(x + h) - f(x)}{h}$  \n",
    ">***\n",
    "> 当 f(x) = $\\frac{1}{x}$ 时:  \n",
    "> $f^\\prime(x) = \\lim\\limits_{h \\rightarrow 0}\\frac{\\frac{1}{x + h} - \\frac{1}{x}}{h} = \\lim\\limits_{h \\rightarrow 0}\\frac{\\frac{x - (x + h)}{x(x + h)}}{h} = \\lim\\limits_{h \\rightarrow 0}\\frac{-h}{hx(x + h)} = \\lim\\limits_{h \\rightarrow 0}\\frac{-1}{x(x + h)} = -\\frac{1}{x^2}$ $\\Rightarrow$ $\\frac{d}{dx}\\big(\\frac{1}{x}\\big) = -\\frac{1}{x^2}$\n",
    ">***\n",
    "> 当 f(x) = $\\sqrt{x}$ 时:  \n",
    "> $f^\\prime(x) = \\lim\\limits_{h \\rightarrow 0}\\frac{\\sqrt{x + h} - \\sqrt{x}}{h} = \\lim\\limits_{h \\rightarrow 0}\\frac{\\sqrt{x + h} - \\sqrt{x}}{h} \\times \\frac{\\sqrt{x + h} + \\sqrt{x}}{\\sqrt{x + h} + \\sqrt{x}} = \\lim\\limits_{h \\rightarrow 0}\\frac{(x + h) - x}{h(\\sqrt{x + h} + \\sqrt{x})} = \\lim\\limits_{h \\rightarrow 0}\\frac{h}{h(\\sqrt{x + h} + \\sqrt{x})} = \\lim\\limits_{h \\rightarrow 0}\\frac{1}{\\sqrt{x + h} + \\sqrt{x}}= \\frac{1}{\\sqrt{x} + \\sqrt{x}} = \\frac{1}{2\\sqrt{x}}$ $\\Rightarrow$ $\\frac{d}{dx}(\\sqrt{x}) = \\frac{1}{2\\sqrt{x}}$  \n",
    ">***\n",
    "> 当 f(x) = $\\sqrt{x} + x^2$ 时:  \n",
    "> $f^\\prime(x) = \\lim\\limits_{h \\rightarrow 0}\\frac{(\\sqrt{x + h} + (x + h)^2) - (\\sqrt{x} + x^2)}{h} = \\lim\\limits_{h \\rightarrow 0}\\frac{\\sqrt{x + h} - \\sqrt{x}}{h} + \\lim\\limits_{h \\rightarrow 0}\\frac{(x + h)^2 - x^2}{h} = \\frac{1}{2\\sqrt{x}} + 2x$\n",
    ">***\n",
    "> 当 f(x) = $x^n$ （n 暂且限定为正正数，后续章节有对多有实数情况的证明）:  \n",
    "> $(x + h)^n = (x + h)(x + h)\\cdot\\cdot\\cdot(x + h)$ $\\Rightarrow$ 每个因子中提取 x 则前面的式子 = $x^n + 含有 h 的项$ $\\Rightarrow$ 再第一个因子提取 h 其余的因子提取 x 则前面的式子 = $x^n + nhx^{n - 1} + 含有 h^2 的项 = x^n + nhx^{n - 1} + h2 \\times 含 x 和 h 的多项式$   \n",
    ">  \n",
    "> $f^\\prime(x) = \\lim\\limits_{h \\rightarrow 0}\\frac{(x + h)^n - x^n}{h} = \\lim\\limits_{h \\rightarrow 0}\\frac{x^n + nhx^{n - 1} + h2 \\times 含 x 和 h 的多项式 - x^n}{h} = \\lim\\limits_{h \\rightarrow 0}\\frac{nhx^{n - 1} + h2 \\times 含 x 和 h 的多项式}{h} = \\lim\\limits_{h \\rightarrow 0}({nx^{n - 1} + h \\times 含 x 和 h 的多项式}) = nx^{n - 1}$ $\\Rightarrow$ $\\color{red}{\\frac{d}{dx}(x^a) = ax^{a - 1}}$ "
   ]
  },
  {
   "cell_type": "markdown",
   "id": "fde3225e",
   "metadata": {},
   "source": [
    "**用更好的办法求导**\n",
    "> 函数的常数倍\n",
    ">> 只需要求导后，用常数乘以该函数的导数即可。  \n",
    ">> $\\frac{d}{dx}(x^2) = 2x$ $\\Rightarrow$ $\\frac{d}{dx}(7 \\times x^2) = 7 \\times 2x = 14x$\n",
    "\n",
    "> 函数和与函数差\n",
    ">> 对于函数和、函数差求导就是对每一部分求导，然后再相加或相减就可以了。  \n",
    ">> $\\frac{d}{dx}(3x^5 - 2x^2 + \\frac{7}{\\sqrt{x}} + 2) = \\frac{d}{dx}(3x^5) - \\frac{d}{dx}(2x^2) + \\frac{d}{dx}(\\frac{7}{\\sqrt{x}}) + \\frac{d}{dx}(2) = 15x^4 - 4x - \\frac{7}{2}x^{-\\frac{3}{2}}$\n",
    "\n",
    "> 通过乘积法则求积函数的导数\n",
    ">> 处理函数乘积的时候要更麻烦些 - 不能只是将两个导数乘在一起。  \n",
    ">> $\\color{red}{乘积法则（版本1）: 如果 h(x) = f(x)g(x) ，那么 h^\\prime(x) = f^\\prime(x)g(x) + f(x)g^\\prime(x)}$   \n",
    ">> $\\color{red}{乘积法则（版本2）: 如果 y = uv ，那么 \\frac{dy}{dx} = v\\frac{du}{dx} + u\\frac{dv}{dx}}$   \n",
    ">>***\n",
    ">> 求 $y = (x^5 + 2x - 1)(3x^8 - 2x^7 - x^4 - 3x)$ 的导数:  \n",
    ">> 令 $u = x^5 + 2x - 1  ， v = 3x^8 - 2x^7 - x^4 - 3x$ 则 $\\frac{du}{dx} = 5x^4 + 2  ， \\frac{dv}{dx} = 24x^7 - 14x^6 - 4x^3 - 3 \\Rightarrow$    \n",
    ">> $\\frac{dy}{dx} = (3x^8 - 2x^7 - x^4 - 3x)(5x^4 + 2) + (x^5 + 2x - 1)(24x^7 - 14x^6 - 4x^3 - 3)$ 就是展开有点烦人...\n",
    ">>***\n",
    ">> $\\color{red}{乘积法则（三个函数乘积的）: 如果 y = uvw ，那么 \\frac{dy}{dx} = \\frac{du}{dx}vw + u\\frac{dv}{dx}w + uv\\frac{dw}{dx}}$   \n",
    ">> 其实对于 4 个或更多个函数乘积的情况，我们都可以自行推导。窍门是: 对于 n 个函数的乘积用乘积法则求导就是 n 个函数的乘积加 n 次，再在每个项的不同位置替换 $\\frac{d}{dx}$ 即可。\n",
    "\n",
    "> 通过商法则求商函数的导数\n",
    ">> $\\color{red}{商法则（版本1）: 如果 h(x) = \\frac{f(x)}{g(x)} ，那么 h^\\prime(x) = \\frac{f^\\prime(x)g(x) - f(x)g^\\prime(x)}{(g(x))^2}}$   \n",
    ">> $\\color{red}{商法则（版本2）: 如果 y = \\frac{u}{v} ，那么 \\frac{dy}{dx} = \\frac{v\\frac{du}{dx} - u\\frac{dv}{dx}}{v^2}}$  \n",
    ">>***\n",
    ">> 求 $h(x) = \\frac{2x^3 - 3x + 1}{x^5 - 8x^3 + 2}$ 的导数:  \n",
    ">> 令 $u = 2x^3 - 3x + 1  ， v = x^5 - 8x^3 + 2$ 则 $\\frac{du}{dx} = 6x^2 - 3  ， \\frac{dv}{dx} = 5x^4 - 24x^2 \\Rightarrow$  \n",
    ">> $\\frac{dy}{dx} = \\frac{(x^5 - 8x^3 + 2)(6x^2 - 3) - (2x^3 - 3x + 1)(5x^4 - 24x^2)}{(x^5 - 8x^3 + 2)^2}$ 就是展开有点烦人...\n",
    "\n",
    "> 通过链式求导法则求复合函数的导数\n",
    ">> 求 $h(x) = (x^2 = 1)^{99}$ 的导数，直接展开或乘积法则全都很耗时，此时可以将函数 h(x) 看作 $f(x) = x^{99} ，g(x) = x^2 + 1$ 的复合函数，即 h(x) = f(g(x))，那就可以用链式求导法则方便求解导数了。  \n",
    ">> $\\color{red}{链式求导法则（版本1）: 如果 h(x) = f(g(x)) ，那么 h^\\prime(x) = f^\\prime(g(x))g^\\prime(x)}$ \n",
    ">> $\\color{red}{链式求导法则（版本1）: 如果 y 是 u 的函数，并且 u 是 x 的函数，那么 \\frac{dy}{dx} = \\frac{dy}{du}\\frac{du}{dx}}$ \n",
    ">>***\n",
    ">> $f^\\prime(g(x))$ 这个表明 对 f 求在 g(x) 处的导数，而不是 x 处的导数。  \n",
    ">> $f(x) = x^{99} ，g(x) = x^2 + 1 ， f^\\prime(x) = 99x^{98} ， g^\\prime(x) = 2x \\Rightarrow h^\\prime(x) = 99(x^2 + 1)^{98}(2x) = 198x(x^2 + 1)^{98}$  \n",
    ">> $y = u^{99} ，u = x^2 + 1 ， \\frac{dy}{du} = 99u^{98} ， \\frac{du}{dx} = 2x \\Rightarrow \\frac{dy}{dx} = 198xu^{98} = 198x(x^2 + 1)^{98}$ \n",
    ">>***\n",
    ">> $\\color{red}{注意1: 为啥称它链式求导？ 以 x 开始得到 u ，然后从 u 又得到 y ，通过额外的变量 u ，从 x 到 y 便形成了一种链}$\n",
    ">> $\\color{red}{注意2: \\frac{dy}{dx} 不是分数，它是分数的极限。链式求导法则种它知识表现的像分数而已，\\frac{dy}{dx} = \\frac{dy}{du}\\frac{du}{dx} 不能简单的以为是约掉 du 得到的}$\n",
    ">>***\n",
    ">> 链式求导可以扩展: 例如 y 是 v 的函数，v 是 u 的函数，u 是 x 的函数时 $\\Rightarrow \\frac{dy}{dx} = \\frac{dy}{dv}\\frac{dv}{du}\\frac{du}{dx}$ "
   ]
  },
  {
   "cell_type": "markdown",
   "id": "b16ddd9c",
   "metadata": {},
   "source": [
    "**求切线方程**\n",
    "> 可以使用导数来求所给曲线的切线方程。  \n",
    "> 1. $\\color{red}{求斜率}$: 通过求导数并代入给定的 x 值。  \n",
    "> 2. $\\color{red}{求直线上的一点}$: 通过给定的 x 值代入原函数本身得到 y 值，将坐标写在一起并称之为点 $(x_0, y_0)$   \n",
    "> 3. $\\color{red}{使用点斜式}$: $y - y_0 = m(x - x_0)$ 来求方程\n",
    ">***\n",
    "> 令 $y = (x^3 - 7)^{50}$ ，求该函数的图像在 x = 2 处的切线方程:  \n",
    ">> 令 $u = x^3 - 7$ ，$y = u^{50}$ 使用链式求导法则 $\\Rightarrow$ $\\frac{dy}{dx} = \\frac{dy}{du}\\frac{du}{dx} = 50u^{49} \\times 3x^2 = 150x^2(x^3 - 7)^{49}$ ，代入 x = 2 $\\Rightarrow$ $\\frac{dy}{dx} = 150x^2(x^3 - 7)^{49} = 600$ 这个就是曲线在 x = 2 处切线的斜率咯。\n",
    ">>  \n",
    ">> 将 x = 2 代入原函数 $\\Rightarrow$ $y = (2^3 - 7)^{50} = 1$ ，因此曲线经过 (2, 1) 点。  \n",
    ">>  \n",
    ">> 由点斜式 $\\Rightarrow$ (y - 1) = 600(x - 2) $\\Rightarrow$ y = 600x - 1199            $\\color{green}{Done!}$"
   ]
  },
  {
   "cell_type": "markdown",
   "id": "4474e407",
   "metadata": {},
   "source": [
    "**速度和加速度**\n",
    "> 如果在 t 时刻的位置是 x ，则 时刻 t 的速度 $v = \\frac{dx}{dt}$ 、加速度（速度的瞬时变化率） $a = \\frac{dv}{dt} = \\frac{d^2x}{dt^2}$ ; 一般来说处理加速度的问题时，时间单位平方。  \n",
    "> 那反过来从 a 求出 v、x 应该怎么做呢？这个其实应该是积分问题，但是对于加速度、速度、位移物理学中用的多，所以公式可以先给出: \n",
    "> 在时刻 t = 0 从初始高度 h 被抛出的带有初始速度 u 的一个物体，满足: $a = -g ，v = -gt + u ， x = -\\frac{1}{2}gt^2 + ut + h$  \n",
    ">***\n",
    "> 距离地面 2米 的高度，以 3米/秒 的速度向上抛一个球。取 g 为 10 米每二次方秒，  \n",
    "> (1) 需要多久该球撞击地面？ $a = -10 , v = -10t + 3 , x = -\\frac{1}{2}10t^2 + 3t + 2 = -5t^2 + 3t + 2 \\Rightarrow x = 0 时: -5t^2 + 3t + 2 = 0 \\Rightarrow x = 1 , x = -\\frac{2}{5} , 时间不能时负的（穿越了） 所以答案是 1 秒。$  \n",
    "> (2) 当该球撞击地面时，其运动有多块？ $t = 1 ， v = -10t + 3 = -7 米/秒 $  \n",
    "> (3) 该球能上升多高？ 速度为 0 时达到最高点 $0 = -10t + 3 \\Rightarrow t = \\frac{3}{10} , x = -5(\\frac{3}{10})^2 + 3(\\frac{3}{10}) + 2 = \\frac{49}{20} 米$  \n",
    "> (4) 如果以相同的速率向下抛球，需要多久该球撞击地面？ $x = -\\frac{1}{2}10t^2 - 3t + 2 = -5t^2 - 3t + 2 \\Rightarrow t = -1 、t = \\frac{2}{5} 秒$  \n",
    "> (5) 在 (4) 的情况下，当它撞击地面时，其运动有多块？ $t = 1 ， v = -10t + 3 = -7 米/秒 $ "
   ]
  },
  {
   "cell_type": "markdown",
   "id": "ae4870ab",
   "metadata": {},
   "source": [
    "**导数伪装的极限**\n",
    "> 求 $\\lim\\limits_{h \\rightarrow 0}\\frac{\\sqrt[5]{32 + h} - 2}{h}$ 直观看非常复杂找不到好的化简规律，那求 $\\lim\\limits_{h \\rightarrow 0}\\frac{\\sqrt[5]{x + h} - \\sqrt[5]{x}}{h}$ 呢？从导数公式 $f^\\prime(x) = \\lim\\limits_{h \\rightarrow 0}\\frac{f(x + h) - f(x)}{h}$ 可知这是 $f(x) = \\sqrt[5]{x}$ 的导数啊。。。   \n",
    "> 那根据多项式求导规律可知 $\\lim\\limits_{h \\rightarrow 0}\\frac{\\sqrt[5]{x + h} - \\sqrt[5]{x}}{h} = \\frac{1}{5}x^{-\\frac{4}{5}}$ 而 $\\lim\\limits_{h \\rightarrow 0}\\frac{\\sqrt[5]{32 + h} - 2}{h}$ 则是这个导数在 x = 32 时的值，所以 $\\lim\\limits_{h \\rightarrow 0}\\frac{\\sqrt[5]{32 + h} - 2}{h} = \\frac{1}{5}(32)^{-\\frac{4}{5}} = \\frac{1}{80}$ $\\color{red}{这就是导数 f^\\prime(x) 伪装的极限，只要找出原函数 f(x) 就好解了}$  \n",
    ">***\n",
    "> 求 $\\lim\\limits_{h \\rightarrow 0}\\frac{\\sqrt{(4 + h)^3 - 7(4 + h)} - 6}{h}$ ，试着将 4 + h 中的 4 替换成 x 后，感觉像是 $f(x) = \\sqrt{x^3 - 7x}$ 的导数，那就先看看它的导数 $f^\\prime(x) = \\lim\\limits_{h \\rightarrow 0}\\frac{\\sqrt{(x + h)^3 - 7(x + h)} - \\sqrt{x^3 - 7x}}{h}$ , 那 x = 4 时 $\\sqrt{x^3 - 7x} = 6$ 所以就能确定原极限就是 $f(x) = \\sqrt{x^3 - 7x}$ 在 x = 4 处的导数 $\\Rightarrow f^\\prime(x) = \\lim\\limits_{h \\rightarrow 0}\\frac{\\sqrt{(x + h)^3 - 7(x + h)} - \\sqrt{x^3 - 7x}}{h} = \\frac{3(4)^2 - 7}{2\\sqrt{(4)^3 - 7(4)}} = \\frac{41}{12}$\n",
    ">***\n",
    "> $\\lim\\limits_{h \\rightarrow 0}\\frac{h}{(x + 6)^6 - x^6}$ 求这个可以先求它的倒数 $\\lim\\limits_{h \\rightarrow 0}\\frac{(x + 6)^6 - x^6}{h}$ , 这一看就是 $f(x) = x^6$ 的导数，$f^\\prime(x) = 6x^5$ $\\Rightarrow$ $\\lim\\limits_{h \\rightarrow 0}\\frac{h}{(x + 6)^6 - x^6} = \\frac{1}{6x^5}$\n",
    ">***\n",
    "> $\\color{red}{其实很多极限都是导数伪装的就看我们能不能发现它们这层伪装！！！！！}$"
   ]
  },
  {
   "cell_type": "markdown",
   "id": "f292b8d2",
   "metadata": {},
   "source": [
    "**分段函数求导**\n",
    "> $$\n",
    "f(x) = \n",
    "\\begin{cases}\n",
    "1 \\quad\\quad 如果 x \\leq 0 \\\\\n",
    "x^2 + 1 \\quad 如果 x > 0\n",
    "\\end{cases}\n",
    "$$  \n",
    "> 除了分段点 x = 0 处 其他部分处处可导，因为每个部分都是可导函数。那就要看分段点处是否可导。  \n",
    "> 1. 分段点上是否连续:   \n",
    ">> $\\lim\\limits_{x \\rightarrow 0^-}f(x) = \\lim\\limits_{x \\rightarrow 0^-}(1) = 1$  \n",
    ">> $\\lim\\limits_{x \\rightarrow 0^+}f(x) = \\lim\\limits_{x \\rightarrow 0^-}(0^2 + 1) = 1$  \n",
    ">> 即 $\\lim\\limits_{x \\rightarrow 0^-}f(x) = $\\lim\\limits_{x \\rightarrow 0^+}f(x) = 1 $\\color{red}{\\Rightarrow 函数在分段点上是连续的}$  \n",
    "> 2. 分段点上是否可导:  \n",
    ">> $\\lim\\limits_{x \\rightarrow 0^-}f^\\prime(x) = \\lim\\limits_{x \\rightarrow 0^-}(0) = 0$  \n",
    ">> $\\lim\\limits_{x \\rightarrow 0^+}f^\\prime(x) = \\lim\\limits_{x \\rightarrow 0^-}(2\\times0) = 0$  \n",
    ">> 即 $\\lim\\limits_{x \\rightarrow 0^-}f^\\prime(x) = $\\lim\\limits_{x \\rightarrow 0^+}f^\\prime(x) = 0 $\\color{red}{\\Rightarrow 函数在分段点上是可导的}$  \n",
    ">***\n",
    "> $\\color{red}{分段函数主要关注分段点处 是否连续、是否可导 有多个分段点时需要考虑所有分段点处的情况}$  \n",
    ">***\n",
    "> $$\n",
    "\\begin{cases}\n",
    "|x^2 - 4| \\quad 如果 x \\leq 1 \\\\\n",
    "-2x + 5 \\quad 如果 x > 1\n",
    "\\end{cases}\n",
    "$$  \n",
    "这时候可能直观认为只关注 x = 1 这一个分段处的可导就行，但是由于有$\\color{red}{绝对值}$的存在导致这个函数可能不止一个分段点。   \n",
    "$|x^2 - 4|$ = $$\n",
    "\\begin{cases}\n",
    "x^2 - 4 \\quad 如果 x \\geq 2 或 x \\leq -2 \\\\\n",
    "-(x^2 - 4) \\quad 如果 -2 < x < 2\n",
    "\\end{cases}\n",
    "$$  \n",
    "所以 g(x) 的最终式应该是:  \n",
    "$$ g(x) =\n",
    "\\begin{cases}\n",
    "x^2 - 4 \\quad 如果 x \\leq -2 \\\\\n",
    "-(x^2 - 4) \\quad 如果 -2 < x \\leq 1 \\\\\n",
    "-2x + 5 \\quad 如果 x > 1\n",
    "\\end{cases}\n",
    "$$  \n",
    "> 所以有两个分段点 x = -2 和 x = 1  \n",
    "> 分段点 x = -2 时:\n",
    ">> $\\lim\\limits_{x \\rightarrow (-2)^-}g(x) = \\lim\\limits_{x \\rightarrow (-2)^-}((-2)^2 - 4) = 0$  \n",
    ">> $\\lim\\limits_{x \\rightarrow (-2)^+}g(x) = \\lim\\limits_{x \\rightarrow (-2)^-}(-(-2)^2 + 4) = 0$  \n",
    ">> 即 $\\lim\\limits_{x \\rightarrow (-2)^-}g(x) = \\lim\\limits_{x \\rightarrow (-2)^+}g(x) = 1$ $\\color{red}{\\Rightarrow 函数在分段点上是连续的}$  \n",
    ">> $\\lim\\limits_{x \\rightarrow (-2)^-}g^\\prime(x) = \\lim\\limits_{x \\rightarrow (-2)^-}(2(-2)) = -4$  \n",
    ">> $\\lim\\limits_{x \\rightarrow (-2)^+}g^\\prime(x) = \\lim\\limits_{x \\rightarrow (-2)^-}((-2)(-2)) = 4$  \n",
    ">> 即 $\\lim\\limits_{x \\rightarrow (-2)^-}g^\\prime(x) \\neq \\lim\\limits_{x \\rightarrow (-2)^+}g^\\prime(x)$ $\\color{red}{\\Rightarrow 函数在分段点上是不可导的}$   \n",
    "\n",
    "> 分段点 x = 1 时:\n",
    ">> $\\lim\\limits_{x \\rightarrow 1^-}g(x) = \\lim\\limits_{x \\rightarrow 1^-}(-(1)^2 + 4) = 3$  \n",
    ">> $\\lim\\limits_{x \\rightarrow 1^+}g(x) = \\lim\\limits_{x \\rightarrow 1^-}(-2(1) + 5) = 3$  \n",
    ">> 即 $\\lim\\limits_{x \\rightarrow 0^-}g(x) = \\lim\\limits_{x \\rightarrow 1^+}g(x) = 1$ $\\color{red}{\\Rightarrow 函数在分段点上是连续的}$  \n",
    ">> $\\lim\\limits_{x \\rightarrow 1^-}g^\\prime(x) = \\lim\\limits_{x \\rightarrow 1^-}(-2(1)) = -2$  \n",
    ">> $\\lim\\limits_{x \\rightarrow 1^+}g^\\prime(x) = \\lim\\limits_{x \\rightarrow 1^-}(-2) = -2$  \n",
    ">> 即 $\\lim\\limits_{x \\rightarrow 1^-}g^\\prime(x) = \\lim\\limits_{x \\rightarrow 1^+}g^\\prime(x)$ $\\color{red}{\\Rightarrow 函数在分段点上是可导的}$ "
   ]
  },
  {
   "cell_type": "code",
   "execution_count": 8,
   "id": "908241ab",
   "metadata": {},
   "outputs": [
    {
     "data": {
      "text/plain": [
       "[<matplotlib.lines.Line2D at 0x2702c0f8d48>]"
      ]
     },
     "execution_count": 8,
     "metadata": {},
     "output_type": "execute_result"
    },
    {
     "data": {
      "image/png": "[encoded data removed]",
      "text/plain": [
       "<Figure size 640x480 with 1 Axes>"
      ]
     },
     "metadata": {},
     "output_type": "display_data"
    }
   ],
   "source": [
    "import numpy as np\n",
    "import matplotlib.pyplot as plt\n",
    "\n",
    "x1 = np.arange(-4, -2, 0.1)\n",
    "x2 = np.arange(-2, 1.1, 0.1)\n",
    "x3 = np.arange(1, 4, 0.1)\n",
    "\n",
    "y1 = x1**2 - 4\n",
    "y2 = -x2**2 + 4\n",
    "y3 = -2*x3 + 5\n",
    "\n",
    "plt.plot(x1, y1)\n",
    "plt.plot(x2, y2)\n",
    "plt.plot(x3, y3)"
   ]
  },
  {
   "cell_type": "markdown",
   "id": "00189fb8",
   "metadata": {},
   "source": [
    "**直接画出导函数的图像**\n",
    "> 根据函数 f(x) 的 $\\color{red}{陡峭成都随着 x 的变化}$ 绘制出导函数 $f^\\prime(x)$ 的图像。\n",
    ">> 1. 当原始图像平坦时，导函数的图像有一个 x 轴截距。\n",
    ">> 2. 当原始图像的一部分是一条直线时，导函数的图像是常数。\n",
    ">> 3. 当原始图像有一条水平渐近线时，导函数的图像也经常有一条水平渐近线，但如果是那样的话，它将在 y = 0 的高度，而不是渐近线的原始高度上。\n",
    ">> 4. 当原始图像有一条垂直渐近线时，导函数的图像通常也在相同的位置有一条垂直渐近线，但方向可能是不同的。"
   ]
  },
  {
   "cell_type": "code",
   "execution_count": null,
   "id": "366a9909",
   "metadata": {},
   "outputs": [],
   "source": []
  }
 ],
 "metadata": {
  "kernelspec": {
   "display_name": "Python 3 (ipykernel)",
   "language": "python",
   "name": "python3"
  },
  "language_info": {
   "codemirror_mode": {
    "name": "ipython",
    "version": 3
   },
   "file_extension": ".py",
   "mimetype": "text/x-python",
   "name": "python",
   "nbconvert_exporter": "python",
   "pygments_lexer": "ipython3",
   "version": "3.7.16"
  }
 },
 "nbformat": 4,
 "nbformat_minor": 5
}
