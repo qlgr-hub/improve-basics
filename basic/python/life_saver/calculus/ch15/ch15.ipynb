{
 "cells": [
  {
   "cell_type": "markdown",
   "id": "bcf01448",
   "metadata": {},
   "source": [
    "# 积分\n",
    "> 1. 求和符号以及伸缩求和法  \n",
    "> 2. 寻求位移和面积之间的关系  \n",
    "> 3. 用分割法去求面积 "
   ]
  },
  {
   "cell_type": "markdown",
   "id": "31826001",
   "metadata": {},
   "source": [
    "**求和符号**\n",
    ">$\n",
    "\\frac{1}{1} + \\frac{1}{4} + \\frac{1}{9} + \\frac{1}{16} + \\frac{1}{25} + \\frac{1}{36} 可以表示为 \\sum\\limits_{j = 1}^{6}\\frac{1}{j^2} 读作“从 j = 1 到 j = 6 时 1/j^2 的和”这个并没有求出和只是个缩写形式。这个 j 是虚拟变量，\\\\ \n",
    "是临时替代品，称为\\color{red}{求和指标}。\\sum\\limits_{j = A}^{B} 中 j 的个数是 B - A + 1 个，\\sum\\limits_{j = 1}^{100}j 与 \\sum\\limits_{j = 0}^{99}(j + 1) 与 等价。S = \\sum\\limits_{j = 1}^{100}j ，S = \\sum\\limits_{j = 1}^{100}(101 - j) ， \\\\ 2S = \\sum\\limits_{j = 1}^{100}j + \\sum\\limits_{j = 1}^{100}(101 - j) = \\sum\\limits_{j = 1}^{100}(j + (101 - j)) = \\sum\\limits_{j = 1}^{100}101 = 10100 \\Rightarrow S = 5050\n",
    "$  \n",
    ">***\n",
    "> 伸缩求和法:  \n",
    "> $\n",
    "\\sum\\limits_{j = 1}^{5}(j^2 - (j - 1)^2) = 5^2 = 25 ， \\sum\\limits_{j = 1}^{200}(j^2 - (j - 1)^2) = 200^2 = 40000 ，它的规律就是 \\sum\\limits_{j = a}^{b}(f(j) - f(j - 1)) = f(b) - f(a - 1) \\\\\n",
    "这种类型的级数就叫\\color{red}{伸缩级数} ，展开后发现 f(b) 和 f(a - 1) 以外的项都会被消掉。 \\\\\n",
    "\\sum\\limits_{j = 1}^{n}(j^2 - (j - 1)^2) = n^2 - (1 - 1)^2 = n^2 \\quad\\Rightarrow\\quad \\sum\\limits_{j = 1}^{n}(2j - 1) = n^2（这个就是前 n 个奇数的和） \\\\\n",
    "\\sum\\limits_{j = 1}^{n}(2j - 1) = \\sum\\limits_{j = 1}^{n}(2j) - \\sum\\limits_{j = 1}^{n}1 = n^2 第二个和移到右边再两边同时除以 2 则，\\quad\\Rightarrow\\quad \\sum\\limits_{j = 1}^{n}(j) = \\frac{1}{2}(n^2 + n) = \\frac{n(n + 1)}{2} \\\\\n",
    "\\sum\\limits_{j = 1}^{n}(j^3 - (j - 1)^3) = n^3 \\quad\\Rightarrow\\quad \\sum\\limits_{j = 1}^{n}(3j^2 - 3j + 1) = n^3 \\quad\\Rightarrow\\quad \\sum\\limits_{j = 1}^{n}j^2 =\\frac{1}{3}\\big(n^3 + 3\\sum\\limits_{j = 1}^{n}j - n\\big) \\quad\\Rightarrow\\quad \\sum\\limits_{j = 1}^{n}j^2 = \\frac{n(n + 1)(2n + 1)}{6}\n",
    "$"
   ]
  },
  {
   "cell_type": "markdown",
   "id": "0f752eac",
   "metadata": {},
   "source": [
    "**位移和面积**  \n",
    "> 一直匀速运动时 位移 = 速度 $\\times$ 时间 ，绘制速度对时间的函数图像后发现 位移 是速度对时间的图像的面积。  \n",
    "> 分段匀速运动时 每段内位移 = 速度 $\\times$ 时间 ，绘制速度对时间的函数图像后发现 位移 是每个分段上速度对时间的图像的面积的总和。  \n",
    "> 这种规律可以推广到更一般的形式，时间可以分成多个（如 n 个）小的$\\color{red}{分区}$ 则有，总位移 = $\\sum\\limits_{j=1}^{n}v_j(t_j - t_{j-1})$（是每个分区上速度对时间的图像的面积的总和）。位移是有向的，所以这个面积也是有向的，设 x 轴下方的面积为负的。  \n",
    ">***\n",
    "> 时间可以分成多个小的$\\color{red}{分区}$ ，这些分区中最大的分区叫 $\\color{red}{最大区间}$ , 实际当中速度的变化是连续的，但是我们这种分区的方法是用多个小分段的和去逼近这个连续函数的图像，所以当 最大区间 足够小（趋近于 0）时就可以完全重合与这个连续函数的图像了。即  \n",
    ">$\n",
    "速度曲线下的实际面积 \\approx \\sum\\limits_{j=1}^{n}v_j(t_j - t_{j-1}) \\\\\n",
    "速度曲线下的实际面积 = \\lim\\limits_{mesh\\rightarrow 0}\\sum\\limits_{j=1}^{n}v_j(t_j - t_{j-1}) （其中mesh是最大区间，最大区间趋于 0 说明分区的个数 n\\rightarrow \\infty）\n",
    "$  \n",
    "> ***\n",
    "> 上述问题中的多个分段中 计算每个小段的面积时用 这段内最大的速度 则得到的面积和大于实际速度图像的面积，这个叫$\\color{red}{上和}$  \n",
    "> 上述问题中的多个分段中 计算每个小段的面积时用 这段内最小的速度 则得到的面积和小于实际速度图像的面积，这个叫$\\color{red}{下和}$  \n",
    "我们有 下和 < 速度曲线下的实际面积 < 上和 ，当选取的最大区间趋于 0 时，上和 = 下和 = 速度曲线下的实际面积"
   ]
  },
  {
   "cell_type": "code",
   "execution_count": null,
   "id": "eadcb493",
   "metadata": {},
   "outputs": [],
   "source": []
  }
 ],
 "metadata": {
  "kernelspec": {
   "display_name": "Python 3 (ipykernel)",
   "language": "python",
   "name": "python3"
  },
  "language_info": {
   "codemirror_mode": {
    "name": "ipython",
    "version": 3
   },
   "file_extension": ".py",
   "mimetype": "text/x-python",
   "name": "python",
   "nbconvert_exporter": "python",
   "pygments_lexer": "ipython3",
   "version": "3.7.16"
  }
 },
 "nbformat": 4,
 "nbformat_minor": 5
}
