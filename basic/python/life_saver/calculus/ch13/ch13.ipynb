{
 "cells": [
  {
   "cell_type": "markdown",
   "id": "bff49c29",
   "metadata": {},
   "source": [
    "# 最优化和线性化\n",
    "> 1. 如何解决最优化问题  \n",
    "> 2. 使用线性化和微分估算特定值  \n",
    "> 3. 我们的估算有多好  \n",
    "> 4. 估算函数的零点的牛顿法"
   ]
  },
  {
   "cell_type": "markdown",
   "id": "1d443cc5",
   "metadata": {},
   "source": [
    "**最优化**\n",
    "> 涉及找出所有可能中最好的一种的问题。  \n",
    ">***\n",
    "> 解决最优化问题的一般方法:  \n",
    ">>$\n",
    "1. 识别出所有你可能用到的变量。其中包含你想最优化的量，暂时叫他 Q 。 \\\\\n",
    "2. 可以先试探一下当前情况的极端可能。 \\\\\n",
    "3. 写出关联起不同变量的各个方程，其中之一应该是关于 Q 的方程。 \\\\\n",
    "4. 努力通过这些方程消去其他的变量，使得 Q 可以表示为只关于一个变量的函数。\\color{blue}{（可以用隐函数求导避开化简！！！！！）} \\\\\n",
    "5. 对 Q 关于那个变量求导，然后找出临界点。 \\\\\n",
    "6. 找出全局最大值和全局最小值。（就是端点、临界点的值求出从中找）。 \\\\\n",
    "7. 写出所得到的结论，注意用文字而非符号表示变量。\n",
    "$"
   ]
  },
  {
   "cell_type": "markdown",
   "id": "64c87bb7",
   "metadata": {},
   "source": [
    "**线性化**\n",
    "> 是一种对难以计算的量找出其估算值的有用技术。\n",
    ">***\n",
    "> 线性化的一般步骤:  \n",
    ">>$\n",
    "1. 写出主要公式: f(x) \\approx L(x) = f(a) + f^\\prime(a)(x - a) \\\\\n",
    "2. 选择一个函数 f 以及一个数 x ，使得这个难搞的数等于 f(x) ，另外，选取一个接近于 x 的 a ，并使得 f(a) 可以容易算得。 \\\\\n",
    "3. 对 f 求导 找出 f^\\prime(x) 。 \\\\\n",
    "4. 在上述方框公式中，用实际的函数分别替代 f 和 f^\\prime ，用你选定的实际值替代 a 。 \\\\\n",
    "5. 最后，把第二步中的 x 值代入公式加以计算。另外注意到微分 df 等于量 f^\\prime(a)(x - a) 。 \\\\\n",
    "\\\\\n",
    "近似中误差: \\\\\n",
    "1. 如果 f^{\\prime\\prime} 在 a 和 x 之间为\\color{red}{正}，则通过线性化得出的估算是\\color{red}{低估} \\\\\n",
    "2. 如果 f^{\\prime\\prime} 在 a 和 x 之间为\\color{red}{负}，则通过线性化得出的估算是\\color{red}{高估} \\\\\n",
    "3. |误差| = \\frac{1}{2}|f^{\\prime\\prime}(c)||x - a|^2 ，令 M 是 x 到 a 之间 |f^{\\prime\\prime}(x)| 的最大值则，|误差| = \\frac{1}{2}M|x - a|^2 （其中 x - a 的大小对误差大小的影响显著）\n",
    "$"
   ]
  },
  {
   "cell_type": "markdown",
   "id": "cc1fce1e",
   "metadata": {},
   "source": [
    "**牛顿法**\n",
    "> 是线性化的一种应用。  \n",
    "> 基本思想: 求解 f(x) = 0 的难解的方程时，通过使用 f 在 x = a 处的线性化来改善估算。  \n",
    "> 定义:  \n",
    ">>$\n",
    "假设 a 是对方程 f(x) = 0 的解的一个近似。如果令 b = a - \\frac{f(a)}{f^\\prime(a)} ，则在很多情况下，b 是个比 a 更好的近似。 \\\\\n",
    "\\color{blue}{先找个大致的近似值，然后一直用这个公式一直计算可以得到一个更好的近似}\n",
    "$  \n",
    ">***\n",
    "> 牛顿法可能不起作用的场景:  \n",
    ">>$\n",
    "1. f^\\prime(a) 的值接近于 0 。 \\\\\n",
    "2. 如果 f(x) = 0 有不止一个解，可能得到的不是即想要的那个解。 \\\\\n",
    "3. 近似可能变得越来越糟。（f(x) = x^{1/3}的例子） \\\\\n",
    "4. 你可能陷入一个循环而无法自拔。（a ，b 之间循环，f(x) = \\big(x^2 - \\frac{4 + 3\\pi}{4 - \\pi}\\big)tan^{-1}(x) 的例子）\n",
    "$"
   ]
  },
  {
   "cell_type": "code",
   "execution_count": null,
   "id": "d2c9d17f",
   "metadata": {},
   "outputs": [],
   "source": []
  }
 ],
 "metadata": {
  "kernelspec": {
   "display_name": "Python 3 (ipykernel)",
   "language": "python",
   "name": "python3"
  },
  "language_info": {
   "codemirror_mode": {
    "name": "ipython",
    "version": 3
   },
   "file_extension": ".py",
   "mimetype": "text/x-python",
   "name": "python",
   "nbconvert_exporter": "python",
   "pygments_lexer": "ipython3",
   "version": "3.7.16"
  }
 },
 "nbformat": 4,
 "nbformat_minor": 5
}
