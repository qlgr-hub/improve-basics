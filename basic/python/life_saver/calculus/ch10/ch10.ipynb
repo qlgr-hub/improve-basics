{
 "cells": [
  {
   "cell_type": "markdown",
   "id": "f004484c",
   "metadata": {},
   "source": [
    "# 反函数和反三角函数\n",
    "> 1. 使用导数证明一个函数又反函数\n",
    "> 2. 求反函数的导数\n",
    "> 3. 逐个来看反三角函数\n",
    "> 4. 反双曲函数"
   ]
  },
  {
   "cell_type": "markdown",
   "id": "429c401a",
   "metadata": {},
   "source": [
    "**导数和反函数**\n",
    "> 直观的例子: 导数处处为正 $\\Rightarrow$ 函数是个递增函数 $\\Rightarrow$ 可以通过水平线检验 $\\Rightarrow$ 那就有反函数。  \n",
    ">***\n",
    "> 导数与反函数:  \n",
    ">>$ 如果 f 在其定义域 (a, b) 上可导且满足一下条件中的任意一条: \\\\\n",
    "（1）对于所有的在 (a, b) 中的 x ，f^\\prime(x) > 0 \\\\\n",
    "（2）对于所有的在 (a, b) 中的 x ，f^\\prime(x) < 0 \\\\\n",
    "（3）对于所有的在 (a, b) 中的 x ，f^\\prime(x) \\geq 0 且对于有限个数的 x ，f^\\prime(x) = 0 \\\\\n",
    "（4）对于所有的在 (a, b) 中的 x ，f^\\prime(x) \\leq 0 且对于有限个数的 x ，f^\\prime(x) = 0 \\\\\n",
    "则 f 有反函数。\\color{blue}{（但是当函数有不连续点或垂直渐近线时这些就不能成立了，而且 f^\\prime(x) = 0 只能是有限个点时才可以！！！！！）}\n",
    "$  \n",
    ">***\n",
    "> 反函数的导数:\n",
    ">> $ y = f(x) 的反函数 f^{-1}(x) \\quad\\Rightarrow\\quad x = f(y) ，两边关于 x 作隐函数求导，\\frac{d}{dx}(f(y)) = \\frac{d}{dx}(x) \\quad\\Rightarrow\\quad \\frac{d}{dx}(x) = 1 ，令 u = f(y) 则，\\frac{d}{dx}(f(y)) = \\frac{du}{dy}\\frac{dy}{dx} = f^\\prime(y)\\frac{dy}{dx} \\quad\\Rightarrow\\quad f^\\prime(y)\\frac{dy}{dx} = 1 \\quad\\Rightarrow\\quad \\frac{dy}{dx} = \\frac{1}{f^\\prime(y)} \\\\\n",
    "\\color{blue}{先求出 f^\\prime(x) 的公式，然后用 y 替换 x 再取倒数，就能得到反函数的导数} \\\\\n",
    "如果反函数的导数用 x 来表达则应该用 y = f^{-1}(x) 代替 y 即，\\frac{d}{dx}(f^{-1}(x)) = \\frac{1}{f^\\prime(f^{-1}(x))}\n",
    "$"
   ]
  },
  {
   "cell_type": "code",
   "execution_count": 11,
   "id": "ae60ae4a",
   "metadata": {},
   "outputs": [
    {
     "data": {
      "text/plain": [
       "[<matplotlib.lines.Line2D at 0x130c4a85288>]"
      ]
     },
     "execution_count": 11,
     "metadata": {},
     "output_type": "execute_result"
    },
    {
     "data": {
      "image/png": "[encoded data removed]",
      "text/plain": [
       "<Figure size 640x480 with 1 Axes>"
      ]
     },
     "metadata": {},
     "output_type": "display_data"
    }
   ],
   "source": [
    "import numpy as np\n",
    "import matplotlib.pyplot as plt\n",
    "\n",
    "x = np.linspace(2, 6.5, 1000)\n",
    "y = (x**2) * ((x - 5)**3)\n",
    "plt.plot(x, y)"
   ]
  },
  {
   "cell_type": "markdown",
   "id": "8fd98d3b",
   "metadata": {},
   "source": [
    "**反三角函数**\n",
    "> 反三角函数都是周期函数，所以只在受限定义域内有反函数（这样才能通过水平线检验）  \n",
    ">***\n",
    "> 1. 反正弦函数:  \n",
    ">> $ f(x) = sin(x)\n",
    "一般选择研究的定义域是: [-\\frac{\\pi}{2}, \\frac{\\pi}{2}] ，sin(x) 的反函数就是 sin^{-1}(x)（\\color{red}{注意: sin^{-1}(x) 和 (sin(x))^-1 表示的不是一个东西}） \\\\\n",
    "也可以记作 arcsin(x)，sin^{-1}(x)的性质有: \\\\\n",
    "1. 定义域是 [-1, 1] ，值域是 [-\\frac{\\pi}{2}, \\frac{\\pi}{2}] ，且它是个奇函数 \\\\\n",
    "2. 导数 \\frac{dy}{dx} = \\frac{1}{cos(y)} 由三角恒等式 sin^2(y) + cos^2(y) = 1 ，且 sin(y) = x ，所以 cos(y) = \\pm\\sqrt{1 - x^2}。从函数的图像可知我们需要选用 \\\\\n",
    "正的那个，所以 \\frac{dy}{dx} = \\frac{1}{\\sqrt{1 - x^2}}\\color{red}{（这里需要注意 -1 < x < 1 因为分母不能 0 ，函数在 1 和 -1点不可导）}\n",
    "$\n",
    ">***\n",
    "> 2. 反余弦函数:  \n",
    ">> $ f(x) = cos(x)\n",
    "一般选择研究的定义域是: [0, \\pi] ，cos(x) 的反函数就是 cos^{-1}(x)（\\color{red}{注意: cos^{-1}(x) 和 (cos(x))^-1 表示的不是一个东西}） \\\\\n",
    "也可以记作 arccos(x)，cos^{-1}(x)的性质有: \\\\\n",
    "1. 定义域是 [-1, 1] ，值域是 [0, \\pi] ，它既不是奇函数也不是偶函数 \\\\\n",
    "2. 导数 \\frac{dy}{dx} = -\\frac{1}{sin(y)} 由三角恒等式 sin^2(y) + cos^2(y) = 1 ，且 cos(y) = x ，所以 sin(y) = \\pm\\sqrt{1 - x^2}。从函数的图像可知我们需要选用 \\\\\n",
    "负的那个，所以 \\frac{dy}{dx} = -\\frac{1}{\\sqrt{1 - x^2}}\\color{red}{（这里需要注意 -1 < x < 1 因为分母不能 0 ，函数在 1 和 -1点不可导）}\n",
    "$\n",
    ">***\n",
    "> 从反正弦、反余弦函数的导数可知 $y = sin^{-1} + cos^{-1}(x)$ 的导数是 0 ，也就是说它是个常数，经推导可以知: 在区间 [-1, 1] 上任意的 x $sin^{-1} + cos^{-1}(x) = \\frac{\\pi}{2}$ 。 $\\color{blue}{其实稍加思考后不难发现 sin^{-1} + cos^{-1}(x) 的几何意义是直角三角形中除了直角以外的两个角的和，所以它当然是 \\frac{\\pi}{2}}$  \n",
    ">***\n",
    "> 3. 反正切函数:  \n",
    ">> $ f(x) = tan(x)\n",
    "一般选择研究的定义域是: (-\\frac{\\pi}{2}, \\frac{\\pi}{2}) ，tan(x) 的反函数就是 tan^{-1}(x)（\\color{red}{注意: tan^{-1}(x) 和 (tan(x))^-1 表示的不是一个东西}） \\\\\n",
    "也可以记作 arctan(x)，tan^{-1}(x)的性质有: \\\\\n",
    "1. 定义域是 R，值域是 (-\\frac{\\pi}{2}, \\frac{\\pi}{2}) ，且它是个奇函数 \\\\\n",
    "2. 导数 \\frac{dy}{dx} = -\\frac{1}{sec^2(y)} 由三角恒等式 sec^2(y) = 1 + tan^2(y) ，且 tan(y) = x ，所以 sec^2(y) = 1 + x^2。所以对于所有实数 x \\frac{dy}{dx} = \\frac{1}{1 + x^2} \\\\\n",
    "3. 反正切函数有水平渐近线，即 \\lim\\limits_{x\\rightarrow\\infty}(tan^{-1}(x)) = \\frac{\\pi}{2} ，\\lim\\limits_{x\\rightarrow-\\infty}(tan^{-1}(x)) = -\\frac{\\pi}{2}\\color{blue}{（当计算极限时遇到有 tan^{-1}(x) 的乘积或商就可以像指数 e^x 一样单独拆出来算极限，不影响其余部分！！！！！）}\n",
    "$  \n",
    ">***\n",
    "> 4. 反正割函数:  \n",
    ">> $ f(x) = sec(x)\n",
    "一般选择研究的定义域是: [0, \\pi]\\setminus \\{ \\frac{\\pi}{2} \\} ，sec(x) 的反函数就是 sec^{-1}(x)（\\color{red}{注意: sec^{-1}(x) 和 (sec(x))^-1 表示的不是一个东西}） \\\\\n",
    "也可以记作 arcsec(x)，sec^{-1}(x)的性质有: \\\\\n",
    "1. 定义域是 (-\\infty, -1]\\quad\\bigcup\\quad[1, \\infty) ，值域是 [0, \\pi]\\setminus \\{ \\frac{\\pi}{2} \\} ，它既不是奇函数也不是偶函数 \\\\\n",
    "2. 导数 \\frac{dy}{dx} = -\\frac{1}{sec(y)tan(y)} 由三角恒等式 sec^2(y) = 1 + tan^2(y) ，且 sec(y) = x ，所以 tan(y) = \\pm\\sqrt{x^2 - 1}。从函数的图像可知我们需要选用 \\\\\n",
    "所有的，可以用 |x| 代表 \\pm x ，所以 \\frac{dy}{dx} = \\frac{1}{|x|\\sqrt{x^2 - 1}}\\color{red} \\\\\n",
    "3. 反正割函数有水平渐近线，即 \\lim\\limits_{x\\rightarrow\\infty}(sec^{-1}(x)) = \\frac{\\pi}{2} ，\\lim\\limits_{x\\rightarrow-\\infty}(sec^{-1}(x)) = \\frac{\\pi}{2}\\color{blue}{（当计算极限时遇到有 sec^{-1}(x) 的乘积或商就可以像指数 e^x 一样单独拆出来算极限，不影响其余部分！！！！！）}\n",
    "$  \n",
    ">***\n",
    "> 5. 反余切函数:  \n",
    ">> $ f(x) = cot(x)\n",
    "一般选择研究的定义域是: (0, \\pi) ，cot(x) 的反函数就是 cot^{-1}(x)（\\color{red}{注意: cot^{-1}(x) 和 (cot(x))^-1 表示的不是一个东西}） \\\\\n",
    "也可以记作 arccot(x)，cot^{-1}(x)的性质有: \\\\\n",
    "1. 定义域是 R，值域是 (0, \\pi) ，它既不是奇函数也不是偶函数 \\\\\n",
    "2. 导数 \\frac{dy}{dx} = -\\frac{1}{-csc^2(y)} 由三角恒等式 csc^2(y) = 1 + cot^2(y) ，且 cot(y) = x ，所以 csc^2(y) = 1 + x^2。所以对于所有实数 x \\frac{dy}{dx} = -\\frac{1}{1 + x^2} \\\\\n",
    "3. 反余切函数有水平渐近线，即 \\lim\\limits_{x\\rightarrow\\infty}(cot^{-1}(x)) = 0 ，\\lim\\limits_{x\\rightarrow-\\infty}(cot^{-1}(x)) = \\pi \\color{blue}{（当计算极限时遇到有 cot^{-1}(x) 的乘积或商就可以像指数 e^x 一样单独拆出来算极限，不影响其余部分！！！！！）}\n",
    "$  \n",
    ">***\n",
    "> 2. 反余割函数:  \n",
    ">> $ f(x) = csc(x)\n",
    "一般选择研究的定义域是: [-\\frac{\\pi}{2}, \\frac{\\pi}{2}]\\setminus \\{ 0 \\} ，csc(x) 的反函数就是 csc^{-1}(x)（\\color{red}{注意: csc^{-1}(x) 和 (csc(x))^-1 表示的不是一个东西}） \\\\\n",
    "也可以记作 arccsc(x)，csc^{-1}(x)的性质有: \\\\\n",
    "1. 定义域是 (-\\infty, -1]\\quad\\bigcup\\quad[1, \\infty) ，值域是 [-\\frac{\\pi}{2}, \\frac{\\pi}{2}]\\setminus \\{ 0 \\}，且它是奇函数 \\\\\n",
    "2. 导数 \\frac{dy}{dx} = -\\frac{1}{-csc(y)cot(y)} 由三角恒等式 csc^2(y) = 1 + cot^2(y) ，且 csc(y) = x ，所以 cot(y) = \\pm\\sqrt{x^2 - 1}。从函数的图像可知我们需要选用 \\\\\n",
    "所有的，可以用 |x| 代表 \\pm x ，所以 \\frac{dy}{dx} = -\\frac{1}{|x|\\sqrt{x^2 - 1}}\\color{red} \\\\\n",
    "3. 反余割函数有水平渐近线，即 \\lim\\limits_{x\\rightarrow\\infty}(csc^{-1}(x)) = 0 ，\\lim\\limits_{x\\rightarrow-\\infty}(csc^{-1}(x)) = 0 \\color{blue}{（当计算极限时遇到有 csc^{-1}(x) 的乘积或商就可以像指数 e^x 一样单独拆出来算极限，不影响其余部分！！！！！）}\n",
    "$  \n",
    ">***\n",
    ">$\\color{blue}{\n",
    "求解涉及三角、反三角函数的问题的一些技巧: \\\\\n",
    "1. 求解类似 sin^{-1}\\big(sin(\\frac{13\\pi}{10})\\big) 的问题，需要先确定 sin 结果的符号，然后找到 \\frac{13\\pi}{10} 在 [-\\frac{\\pi}{2}, \\frac{\\pi}{2}] 中的参照角（其实就是在 sin^{-1}(x) 的定义域内的）\\\\\n",
    "2. 一般只要 x 在 sin^{-1}(x) 的定义域内，则 sin\\big(sin^{-1}(x)\\big) = x \\\\\n",
    "3. 涉及 不同类型的三角函数和反三角函数的复合，如: sin\\big(cos^{-1}(\\frac{\\sqrt{15}}{4})\\big) , 可以使用三角恒等式作为辅助\n",
    "}$"
   ]
  },
  {
   "cell_type": "markdown",
   "id": "5695ef09",
   "metadata": {},
   "source": [
    "**反双曲函数**\n",
    ">  \n",
    ">***\n",
    "> 1. sinh(x)的反函数:  \n",
    ">>$\n",
    "1. 定义域是 R ，值域也是 R，且它是奇函数 \\\\\n",
    "2. 导数: 对于所有的实数 x ，\\frac{d}{dx}(sinh^{-1}(x)) = \\frac{1}{\\sqrt{x^2 + 1}} \\\\\n",
    "3. 函数表达式是: sinh^{-1}(x) = ln(x + \\sqrt{x^2 + 1})\n",
    "$  \n",
    ">***\n",
    "> 2. cosh(x)的反函数:  \n",
    ">>$\n",
    "1. 定义域是 [1, \\infty) ，值域是 [0, \\infty)，它既不是奇函数也不是偶函数 \\\\\n",
    "2. 导数: 对于所有的实数 x ，\\frac{d}{dx}(cosh^{-1}(x)) = \\frac{1}{\\sqrt{x^2 - 1}} \\\\\n",
    "3. 函数表达式是: sinh^{-1}(x) = ln(x + \\sqrt{x^2 - 1})\n",
    "$  \n",
    ">***\n",
    ">$\\color{blue}{\n",
    "1. 求解导数的过程中使用了 conh^2(x) - sinh^2(x) = 1 这个恒等式 \\\\\n",
    "2. 求解表达式是因为 sinh(x) 、cosh(x) 本身是个指数函数 所以反函数应该是个对数函数 这个思路\n",
    "}$  \n",
    ">***\n",
    "> 3. tanh(x)的反函数:  \n",
    ">>$\n",
    "1. 定义域是 (-1, 1) ，值域也是 R，且它是奇函数 \\\\\n",
    "2. 导数: 对于所有 (-1, 1) 内的 x ，\\frac{d}{dx}(tanh^{-1}(x)) = \\frac{1}{1 - x^2} \n",
    "$   \n",
    ">***\n",
    "> 4. sech(x)的反函数:  \n",
    ">>$\n",
    "1. 定义域是 (0, 1] ，值域是 R，它既不是奇函数也不是偶函数 \\\\\n",
    "2. 导数: 对于所有 (0, 1) 内的 x ，\\frac{d}{dx}(sech^{-1}(x)) = -\\frac{1}{x\\sqrt{1 - x^2}} \n",
    "$   \n",
    ">***\n",
    "> 5. coth(x)的反函数:  \n",
    ">>$\n",
    "1. 定义域是 (-\\infty, -1) \\bigcup (1, \\infty) ，值域是 R，且它是奇函数 \\\\\n",
    "2. 导数: 对于所有 (-\\infty, -1) \\bigcup (1, \\infty) 内的 x ，\\frac{d}{dx}(coth^{-1}(x)) = \\frac{1}{1 - x^2} \n",
    "$   \n",
    ">***\n",
    "> 6. csc(x)的反函数:  \n",
    ">>$\n",
    "1. 定义域是 R\\setminus \\{0\\}  ，值域也是 R\\setminus \\{0\\}，且它是奇函数 \\\\\n",
    "2. 导数: 对于所有 R\\setminus \\{0\\} 内的 x ，\\frac{d}{dx}(csch^{-1}(x)) = -\\frac{1}{|x|\\sqrt{1 + x^2}} \n",
    "$   \n",
    ">***\n",
    ">$\n",
    "\\color{blue}{所有这些函数的导数中需要特别注意定义域，例如: 别看 \\frac{d}{dx}(tanh^{-1}(x)) 和 \\frac{d}{dx}(coth^{-1}(x)) 公式一样但是定义域是完全不同的！！！！！}\n",
    "$"
   ]
  },
  {
   "cell_type": "code",
   "execution_count": null,
   "id": "46361bb4",
   "metadata": {},
   "outputs": [],
   "source": []
  }
 ],
 "metadata": {
  "kernelspec": {
   "display_name": "Python 3 (ipykernel)",
   "language": "python",
   "name": "python3"
  },
  "language_info": {
   "codemirror_mode": {
    "name": "ipython",
    "version": 3
   },
   "file_extension": ".py",
   "mimetype": "text/x-python",
   "name": "python",
   "nbconvert_exporter": "python",
   "pygments_lexer": "ipython3",
   "version": "3.7.16"
  }
 },
 "nbformat": 4,
 "nbformat_minor": 5
}
