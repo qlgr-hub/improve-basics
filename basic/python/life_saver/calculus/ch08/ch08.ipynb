{
 "cells": [
  {
   "cell_type": "markdown",
   "id": "0cc1abcc",
   "metadata": {},
   "source": [
    "# 隐函数求导和相关变化率\n",
    "> 1. 隐函数求导\n",
    "> 2. 相关变化率"
   ]
  },
  {
   "cell_type": "markdown",
   "id": "6d371945",
   "metadata": {},
   "source": [
    "**隐函数求导**\n",
    "> 首先考虑两个导数: $\\frac{d}{dx}(x^2)$ 和  $\\frac{d}{dx}(y^2)$ ， $\\frac{d}{dx}(x^2) = 2x$ 那 $\\frac{d}{dx}(y^2) = 2y$ 吗? 如果是 $\\frac{d}{dy}(y^2) = 2y$ 这个肯定没问题，但问题是 $\\frac{d}{dx}(y^2)$ 的 dx 告诉我们这个是对 x 求导而不是对 y ，所以不能这么求。  \n",
    "> 不过 $\\frac{d}{dx}(y^2)$ 可以用链式求导法则可知，令 $u = y^2$ $\\Rightarrow\\frac{d}{dx}(y^2) = \\frac{du}{dx} = \\frac{du}{dy}\\frac{dy}{dx}$ 其中 $\\frac{du}{dy} = 2y \\Rightarrow \\frac{d}{dx}(y^2) = 2y\\frac{dy}{dx}$ 。其实它告诉了我们 $\\frac{d}{dx}(y^2)$ 只有 y 和 x 有函数关系时才有意义，且该函数的导数存在时它才存在。  \n",
    ">***\n",
    "> 求 $x^2 + y^2 = 4$ 的导数:  \n",
    "> $x^2 + y^2 = 4 导数是: \\frac{d}{dx}(x^2 + y^2) = \\frac{d}{dx}(4) \\quad\\Rightarrow\\quad \\frac{d}{dx}(x^2) + \\frac{d}{dx}(y^2) = 0 \\quad\\Rightarrow\\quad 2x + 2y\\frac{dy}{dx} = 0 \\quad\\Rightarrow\\quad \\frac{dy}{dx} = -\\frac{x}{y}$ 。这个其实是个半径为 2 圆心位于原点的圆，$\\frac{dy}{dx} = -\\frac{x}{y}$ 说明了圆上的某点 (x, y) 处切线的斜率是 $-\\frac{x}{y}$ ，如果点 (x, y) 不在圆上这个公式就没太大用处了。求点 $(1, \\sqrt{3})$ 处的切线方程，这个点确实在圆上。切线的斜率 $m = -\\frac{1}{\\sqrt{3}}$ ，且过点 $(1, \\sqrt{3})$ 则由点斜式得到切线的方程是: $y - \\sqrt{3} = -\\frac{1}{\\sqrt{3}}(x - 1) \\quad\\Rightarrow\\quad y = \\frac{4 - x}{\\sqrt{3}}$  \n",
    ">***\n",
    "> 求 $5sin(x) + 3sec(y) = y - x^2 + 3$ 的导数:  \n",
    "> $\\frac{d}{dx}(5sin(x)) + \\frac{d}{dx}(3sec(y)) = \\frac{d}{dx}(y) - \\frac{d}{dx}(x^2) + \\frac{d}{dx}(3)$ 其中那一点的是 $\\frac{d}{dx}(3sec(y))$ 令 u = 3sec(y) 则由链式求导法则 $\\frac{du}{dx} = \\frac{du}{dy}\\cdot\\frac{dy}{dx} \\quad\\Rightarrow\\quad \\frac{d}{dx}(3sec(y)) = 3sec(y)tan(y)\\frac{dy}{dx}$ 代入并求解可得到 $\\frac{d}{dx}(5sin(x)) + \\frac{d}{dx}(3sec(y)) = \\frac{d}{dx}(y) - \\frac{d}{dx}(x^2) + \\frac{d}{dx}(3) \\quad\\Rightarrow\\quad 5cos(x) + 3sec(y)tan(y)\\frac{dy}{dx} = \\frac{dy}{dx} - 2x \\quad\\Rightarrow\\quad \\frac{dy}{dx} - 3sec(y)tan(y)\\frac{dy}{dx} = 2x + 5cos(x) \\quad\\Rightarrow\\quad \\frac{dy}{dx} = \\frac{2x + 5cos(x)}{1 - - 3sec(y)tan(y)}$ 。求这个曲线在原点处的切线方程，首先斜率 m = $\\frac{dy}{dx} = \\frac{2(0) + 5cos(0)}{1 - - 3sec(0)tan(0)}$ = 5 ，又过原点，所以方程就是 y = 5x  \n",
    "> $\\color{blue}{常识: 其实如果你需要的只是一个特定点上的导数，那么在整理出 \\frac{dy}{dx} 之前就代入可以节省时间！！！！！}$  \n",
    ">***\n",
    "> 求 $ycot(x) = 3csc(y) + x^7$ 的导数:  \n",
    "> 首先 令 s = ycot(x) ，v = cot(x) 则根据乘法法则有 $\\frac{d}{dx}(ycot(x)) = \\frac{ds}{dx} = v\\frac{dy}{dx} + y\\frac{dv}{dx} = cot(x)\\frac{dy}{dx} - ycsc^2(x)$  \n",
    "> 接着 令 u = 3csc(y) 则根据链式求导法则有 $\\frac{d}{dx}(3csc(y)) = \\frac{du}{dx} = \\frac{du}{dy}\\frac{dy}{dx} = -3csc(y)cot(y)\\frac{dy}{dx}$  \n",
    "> 又 $\\frac{d}{dx}(x^7) = 7x^6$ 所以两边同时求导有 $\\frac{d}{dx}(ycot(x)) = \\frac{d}{dx}(3csc(y)) + \\frac{d}{dx}(x^7) \\quad\\Rightarrow\\quad cot(x)\\frac{dy}{dx} - ycsc^2(x) = -3csc(y)cot(y)\\frac{dy}{dx} + 7x^6 \\quad\\Rightarrow\\quad \\frac{dy}{dx} = \\frac{ycsc^2(x) + 7x^6}{cot(x) + 3csc(y)cot(y)}$  \n",
    ">***\n",
    "> 求 $x - ycos(\\frac{y}{x^4}) = \\pi + 1$  $(1, \\pi)$ 处的切线方程:  \n",
    "> 首先 令 s = ycos(\\frac{y}{x^4}) ，v = cos(\\frac{y}{x^4}) 则根据乘法法则有 $\\frac{d}{dx}(ycos(\\frac{y}{x^4})) = \\frac{ds}{dx} = v\\frac{dy}{dx} + y\\frac{dv}{dx}$  \n",
    "> 接着 令 t = \\frac{y}{x^4}) ，v = cos(t) 则根据链式求导法则有 $\\frac{dv}{dx} = \\frac{dv}{dt}\\frac{dt}{dx}$  \n",
    "> 接着 令 u = x^4 ，t = y/u 则根据商法则有 $\\frac{dt}{dx} = \\frac{u\\frac{dy}{dx} - y\\frac{du}{dx}}{u^2} = \\frac{x^4\\frac{dy}{dx} - y\\cdot4x^3}{(x^4)^2} = \\frac{x\\frac{dy}{dx} - 4y}{x^5}$  \n",
    "> 所以 $\\frac{d}{dx}(ycos(\\frac{y}{x^4})) = \\frac{ds}{dx} = cos(\\frac{y}{x^4})\\frac{dy}{dx} + y(-sin(\\frac{y}{x^4}))\\cdot\\big(\\frac{x\\frac{dy}{dx} - 4y}{x^5}\\big))$  \n",
    "> 最终，$x - ycos(\\frac{y}{x^4}) = \\pi + 1$ 的导数是 $\\frac{d}{dx}(x) - cos(\\frac{y}{x^4})\\frac{dy}{dx} + y(-sin(\\frac{y}{x^4}))\\cdot\\big(\\frac{x\\frac{dy}{dx} - 4y}{x^5}\\big)) = \\frac{d}{dx}(\\pi + 1)$ $\\quad\\Rightarrow\\quad 1 - cos(\\frac{y}{x^4})\\frac{dy}{dx} + y(-sin(\\frac{y}{x^4}))\\cdot\\big(\\frac{x\\frac{dy}{dx} - 4y}{x^5}\\big)) = 0$  \n",
    "> 现在 代入 $(1, \\pi)$ 得到: $1 - (-1)\\frac{dy}{dx} + \\pi\\cdot(0)\\times(...) = 0 \\quad\\Rightarrow\\quad \\frac{dy}{dx} = -1$ 也就是切线的斜率是 -1 ，由切线过点 $(1, \\pi)$ ，所以方程就是 $y = -x + \\pi + 1$  \n",
    ">***\n",
    "> $\\color{blue}{总结: 隐函数求导就是对一切求导，再通过链式求导法则、乘法法则、商法则等简化整理得到 \\frac{dy}{dx} = ... 形式的表达式，}$\n",
    "$\\color{blue}{但是如果只求某一特定点出的切线方程则可以不用花费太多时间整理出 \\frac{dy}{dx} = ... 形式的表达式}$  \n",
    ">***\n",
    ">***\n",
    "> 求 $2y + sin(y) = \\frac{x^2}{\\pi} + 1$ 的$\\color{red}{二阶导数}$在 $(\\pi, \\frac{\\pi}{2})$ 处的值:  \n",
    "> 首先，求一阶导数: 用链式求导法则处理 sin(y) 则得到 $2\\frac{dy}{dx} + cos(y)\\frac{dy}{dx} = \\frac{2x}{\\pi}$  \n",
    "> 再对一阶导数求导，即 $\\frac{d}{dx}(2\\frac{dy}{dx}) + \\frac{d}{dx}(cos(y)\\frac{dy}{dx}) = \\frac{d}{dx}(\\frac{2x}{\\pi})$  \n",
    "> 这里 $\\frac{d}{dx}(cos(y)\\frac{dy}{dx})$ 这一项比较复杂，首先令 $s = cos(y)\\frac{dy}{dx}$ ，u = cos(y) ，$v = \\frac{dy}{dx}$ 用乘法法则有 $\\frac{ds}{dx} = v\\frac{du}{dx} + u\\frac{dv}{dx} = \\frac{dy}{dx}\\frac{du}{dx} + cos(y)\\frac{d^2y}{dx^2}$  \n",
    "> 这里任然需要求 $\\frac{du}{dx}$ ， 用链式求导法则可以得到 $\\frac{du}{dx} = \\frac{du}{dy}\\frac{dy}{dx} = -sin(y)\\frac{dy}{dx}$  \n",
    ">  \n",
    "> 整体代入则，要求的二阶导数公式是 $2\\big(\\frac{d^2y}{dx^2}\\big) + \\frac{dy}{dx}\\big(-sin(y)\\frac{dy}{dx}\\big) + cos(y)\\frac{d^2y}{dx^2} = \\frac{2}{\\pi} \\quad\\Rightarrow\\quad 2\\frac{d^2y}{dx^2} - sin(y)\\big(\\frac{dy}{dx}\\big)^2 + cos(y)\\frac{d^2y}{dx^2} = \\frac{2}{\\pi}$  \n",
    "> 将点 $(\\pi, \\frac{\\pi}{2})$ 代入二阶导数得到 $2\\frac{d^2y}{dx^2} - \\big(\\frac{dy}{dx}\\big)^2 = \\frac{2}{\\pi}$  \n",
    "> 将点 $(\\pi, \\frac{\\pi}{2})$ 代入一阶导数得到 $2\\frac{dy}{dx} = 2 \\quad\\Rightarrow\\quad \\frac{dy}{dx} = 1$  \n",
    "> 将 $\\frac{dy}{dx}$ 的值代入  二阶导代入后得到的式子得到 $2\\frac{d^2y}{dx^2} - (1)^2 = \\frac{2}{\\pi} \\quad\\Rightarrow\\quad \\frac{d^2y}{dx^2} = \\frac{1}{\\pi} + \\frac{1}{2}$"
   ]
  },
  {
   "cell_type": "markdown",
   "id": "c1209c2a",
   "metadata": {},
   "source": [
    "**相关变化率**\n",
    "> $\\color{red}{变化率}$ 是指一个量随时间变化的速率。（如果你想要知道某物随时间的变化值有多块，只是简单的对其关于时间求导）  \n",
    "> $\\color{blue}{如果 Q 是某个量，那么 Q 的变化率是 \\frac{dQ}{dt}}$  \n",
    ">***\n",
    "> 求解相关变化率问题的一般方法:\n",
    ">> 1. 读题，识别出所有量并注意到哪一个量是你需要对其求相关变化率的。  \n",
    ">> 2. 写出一个关联所有量的方程（有时候你需要不止一个方程）。（为了做到这一步，你可能需要用到几何学，可能是涉及相似三角形的）。如果你有不止一个方程，试着把它们联立求解，以消去不必要的变量。 \n",
    ">> 3. 对剩余的方程关于时间 t 做隐函数求导。也就是方程两边各添加一个 $\\frac{d}{dt}$ 。你会得到一个或多个关联起各个变化率的方程。  \n",
    ">> 4. 最后，将你所知道的值代入所有的方程中做替换。联立求解方程得到你想要的变化率。  \n",
    ">> $\\color{blue}{值得注意的是上面的 3. 和 4. 不能颠倒顺序，必须先求导再代入实际值（求导前代入就没法计算变化了是个固定值了）}$  \n",
    ">***\n",
    "> 用打气筒给完美球体(打气过程中不会变形成非球体的意思)气球打气，空气以常数速率 $12\\pi$ 立方英寸/秒 进入气球。  \n",
    "> 1. 当气球的半径达到 2英寸 的时候，气球的半径变化率是多少？  \n",
    "> 2. 当气球的体积达到 $36\\pi$ 的时候，气球的半径变化率是多少？  \n",
    ">> （1）先找量: 气球体积（V）、半径（r）  \n",
    ">> （2）用方程关联量: 这里用到了几何知识，球体的体积 $V = \\frac{4}{3}\\pi r^2$  \n",
    ">> （3）对方程两边对时间 t 做隐函数求导: $\\frac{dV}{dt} = \\frac{d}{dx}(\\frac{4}{3}\\pi r^2)$ 。令 $s = r^3$ 则 $\\frac{ds}{dt} = \\frac{ds}{dr}\\frac{dr}{dt} = 3r^3\\frac{dr}{dt}$ ，所以 $\\frac{dV}{dt} = 4\\pi r^2 \\frac{dr}{dt}$ ，由题可知 $\\frac{dV}{dt} = 12\\pi$ ，即 $\\frac{dr}{dt} = \\frac{12\\pi}{4\\pi r^2} = \\frac{3}{r^2}$   \n",
    ">>  \n",
    ">> 故，题 1. 的答案就是将 r = 2 代入即可，$\\frac{dr}{dt} = \\frac{3}{2^2} = \\frac{3}{4}$ ，即 r = 2 时气球半径的变化率是 $\\frac{3}{4}$ 英寸/秒  \n",
    ">> 对于题 2. 我们需要 r ，所以（2）中的方程代入体积值算得 $V = \\frac{4}{3}\\pi r^2 = 36\\pi \\Rightarrow$ r = 3 ，即 $V = 36\\pi$ 时气球半径的变化率是 $\\frac{1}{3}$ 英寸/秒 "
   ]
  },
  {
   "cell_type": "code",
   "execution_count": null,
   "id": "448fd3da",
   "metadata": {},
   "outputs": [],
   "source": []
  }
 ],
 "metadata": {
  "kernelspec": {
   "display_name": "Python 3 (ipykernel)",
   "language": "python",
   "name": "python3"
  },
  "language_info": {
   "codemirror_mode": {
    "name": "ipython",
    "version": 3
   },
   "file_extension": ".py",
   "mimetype": "text/x-python",
   "name": "python",
   "nbconvert_exporter": "python",
   "pygments_lexer": "ipython3",
   "version": "3.7.16"
  }
 },
 "nbformat": 4,
 "nbformat_minor": 5
}
