{
 "cells": [
  {
   "cell_type": "markdown",
   "id": "3cab8b37-9014-4baf-a549-0662812b94f5",
   "metadata": {},
   "source": [
    "#### 第六章 计数Ⅲ：高等组合学"
   ]
  },
  {
   "cell_type": "code",
   "execution_count": null,
   "id": "609aab6b-98a4-41bb-8e39-fd2fcf2342e6",
   "metadata": {},
   "outputs": [],
   "source": []
  }
 ],
 "metadata": {
  "kernelspec": {
   "display_name": "Python 3 (ipykernel)",
   "language": "python",
   "name": "python3"
  },
  "language_info": {
   "codemirror_mode": {
    "name": "ipython",
    "version": 3
   },
   "file_extension": ".py",
   "mimetype": "text/x-python",
   "name": "python",
   "nbconvert_exporter": "python",
   "pygments_lexer": "ipython3",
   "version": "3.10.11"
  }
 },
 "nbformat": 4,
 "nbformat_minor": 5
}
