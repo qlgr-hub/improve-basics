{
 "cells": [
  {
   "cell_type": "markdown",
   "id": "eef5f135-a8a7-4d77-ae76-3a67b86b4e62",
   "metadata": {},
   "source": [
    "#### 第五章 计数Ⅱ：容斥原理"
   ]
  },
  {
   "cell_type": "markdown",
   "id": "bb41b738-585a-4aab-baa3-4958dc2f6051",
   "metadata": {},
   "source": [
    "##### 5.1 阶乘和二项式问题\n",
    "* “有多少个”与“概率是什么”（概率是有多少种可能/可能选择的总数）\n",
    "  * 每个元素都是独立的和每个子集都是独立是不同的（多人分组问题中每个人都是相互独立时每两人为一组的分组子集不一定都是相互独立的）。\n",
    "* 选组：注意次序是否重要，以及一人是否可以多次参选。\n",
    "* 循环次序：$n$ 个人围坐一张圆桌的坐法总数是 $!(n-1)$ （先固定一个人剩余的是排列问题）。\n",
    "* 选择套装\n",
    "  * 容斥原理：问题划分多个小问题求解再组合答案（组合可不是简单的加，要考虑去除重复计算的部分）。\n",
    "  * 对立事件：解决“至少一个”的问题上对立事件是什么都没发生（这样的概率可能求起来更简单）。"
   ]
  },
  {
   "cell_type": "markdown",
   "id": "450b6c36-e33a-485d-a1c1-f96f35fa6a38",
   "metadata": {},
   "source": [
    "##### 5.2 容斥方法\n",
    "* 容斥原理的特例\n",
    "  * 至少有一个是求集合并的问题，所有事件同时发生是求集合交的问题（通常交比并更容易计算）。\n",
    "  * 容斥原理是用交的概率表示并的概率再计算。\n",
    "* 容斥公式\n",
    "  * 考虑集合 $A_1,A_2,\\cdot\\cdot\\cdot,A_n$ 。用 $|S|$ 表示集合 $S$ 的元素个数，并把 $S$ 的概率记作 $Pr(S)$ 。于是\n",
    "    * $|\\cup_{i=1}^nA_i| = \\sum\\limits_{i=1}^n|A_i| - \\sum\\limits_{1<=j<=j<=n}|A_i\\cap A_j| + \\sum\\limits_{1<=i<=j<=k<=n}|A_i\\cap A_j\\cap A_k| - \\cdot\\cdot\\cdot$\n",
    "    $+ (-1)^{n-2}\\sum\\limits_{a<=l_1<=l_2<\\cdot\\cdot\\cdot<l_{n-1}<=n}|A_{l_1}\\cap A_{l_2}\\cap \\cdot\\cdot\\cdot\\cap A_{l_{n-1}}| + (-1)^{n-1}|A_1\\cap A_2\\cap\\cdot\\cdot\\cdot\\cap A_n|$ 。\n",
    "  * 等可能事件时容斥原理公式会简单很多。\n",
    "  * 二项式定理 $(x + y)^n = \\sum\\limits_{k=0}^n(_k^n)x^ky^{n-k}$ ， $(-1+1)^k = 0$ 利用这个可以证明容斥公式。\n",
    "* 利用容斥原理时选择集合非常的重要，选择的恰当可以大大简化计算。\n",
    "* 从 “至少” 到 “恰好” 的原理\n",
    "  * $Pr(恰好有 k 个发生) = Pr(至少有 k 个发生) - Pr(至少有 K+1 个发生)$ ， 这个原理可以很轻松的从 “至少” 过度到 “恰好” 。\n",
    "* 错排是至少有一个的对立事件。（通信网络图的例子）"
   ]
  },
  {
   "cell_type": "code",
   "execution_count": null,
   "id": "d37af4f2-cdf6-4a7d-9230-830d93e2a44e",
   "metadata": {},
   "outputs": [],
   "source": []
  }
 ],
 "metadata": {
  "kernelspec": {
   "display_name": "Python 3 (ipykernel)",
   "language": "python",
   "name": "python3"
  },
  "language_info": {
   "codemirror_mode": {
    "name": "ipython",
    "version": 3
   },
   "file_extension": ".py",
   "mimetype": "text/x-python",
   "name": "python",
   "nbconvert_exporter": "python",
   "pygments_lexer": "ipython3",
   "version": "3.10.11"
  }
 },
 "nbformat": 4,
 "nbformat_minor": 5
}
