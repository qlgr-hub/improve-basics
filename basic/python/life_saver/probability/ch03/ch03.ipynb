{
 "cells": [
  {
   "cell_type": "markdown",
   "id": "62bac40d-cf92-4821-87fd-28bbeeec50b8",
   "metadata": {},
   "source": [
    "### 第三章 - 计数Ⅰ：纸牌\n",
    "* 概率和计数是不可分割的。"
   ]
  },
  {
   "cell_type": "markdown",
   "id": "cfb3d142-8637-4a32-998d-b8d4595b1fec",
   "metadata": {},
   "source": [
    "#### 3.1 阶乘和二项式系数\n",
    "* 阶乘函数\n",
    "  * 对 $n$ 个人进行排序，如果考虑先后顺序，那么排序方法的总数就是 $n!$ 。\n",
    "  * 从 $n$ 个人中选出 $k$ 人进行排序，那么不同的排列方法为：\n",
    "  $n(n-1)(n-2)\\cdot\\cdot\\cdot(n-(k-1)) = \\frac{n(n - 1)(n - 2)\\cdot\\cdot\\cdot(n - (k - 1)) \\cdot (n - k)!}{(n - k)!} = \\frac{n!}{(n - k)!}$\n",
    "  * 阶乘函数增长非常快，斯特林公式可以估计非常大的阶乘值。\n",
    "  * 将阶乘函数扩展到全体实数是非常有用的，这个扩展称之为 $\\color{yellow}{伽马函数}$ 。\n",
    "  * 如果 $n$ 是一个正整数，那么 $n! = n\\cdot(n - 1)\\cdot\\cdot\\cdot1$ ，并且 $0! = 1$ 。我们把 $n!$ 解释为 $n$ 人排序的方法数：如果 $n$ 等于 0 ，那么就把他解释为 “什么都不做” 的方法只有一种。\n",
    "* 二项式系数\n",
    "  * 不考虑次序时，可能性就少了很多。\n",
    "  * 二项式系数：$\\Big(_k^n\\Big) = \\frac{n!}{k!(n - k)!} （k \\leq n）$\n",
    "\n",
    "* $\\color{yellow}{概率分配中最常见的一个错误必定是混淆了排列和组合。总的来说，如果需要考虑次序那就考虑排列和阶乘，否则就考虑组合和二项式系数。}$\n",
    "* $\\Big(^n_k\\Big) = \\Big(^n_{n - k}\\Big)$\n",
    "  * 数学推导证明：可以写出公式简化可以证明其正确性。\n",
    "  * 考虑含义证明：从 n 个人中选出 k 个人做某事，与从 n 个人中选出 n-k 个人不做某事是等效的。这种证明法也叫 $\\color{yellow}{故事证明法}$ 。"
   ]
  },
  {
   "cell_type": "code",
   "execution_count": 13,
   "id": "64ed6e68-8e76-4664-95fa-537fb8ece7dd",
   "metadata": {},
   "outputs": [],
   "source": [
    "# 来个笨一点的\n",
    "names = [\"Alice\", \"Bob\", \"Charlie\", \"Dan\", \"Eve\"]\n",
    "\n",
    "indices1 = [0, 1, 2, 3, 4]\n",
    "\n",
    "with open(\"Permutation_1.log\", \"w\") as f:\n",
    "    for i1 in indices1:\n",
    "        indices2 = indices1.copy()\n",
    "        indices2.remove(i1)\n",
    "        for i2 in indices2:\n",
    "            indices3 = indices2.copy()\n",
    "            indices3.remove(i2)\n",
    "            for i3 in indices3:\n",
    "                indices4 = indices3.copy()\n",
    "                indices4.remove(i3)\n",
    "                for i4 in indices4:\n",
    "                    indices5 = indices4.copy()\n",
    "                    indices5.remove(i4)\n",
    "                    for i5 in indices5:\n",
    "                        f.write(f\"{names[i1]}, {names[i2]}, {names[i3]}, {names[i4]}, {names[i5]}\\n\")\n",
    "                "
   ]
  },
  {
   "cell_type": "code",
   "execution_count": 14,
   "id": "37c4009e-133e-46b4-989b-71856bbe4bd9",
   "metadata": {},
   "outputs": [],
   "source": [
    "# 来个笨一点的\n",
    "names = [\"Alice\", \"Bob\", \"Charlie\", \"Dan\", \"Eve\"]\n",
    "\n",
    "indices1 = [0, 1, 2, 3, 4]\n",
    "\n",
    "with open(\"Permutation_2.log\", \"w\") as f:\n",
    "    for i1 in indices1:\n",
    "        indices2 = indices1.copy()\n",
    "        indices2.remove(i1)\n",
    "        for i2 in indices2:\n",
    "            indices3 = indices2.copy()\n",
    "            indices3.remove(i2)\n",
    "            for i3 in indices3:\n",
    "                f.write(f\"{names[i1]}, {names[i2]}, {names[i3]}\\n\")"
   ]
  },
  {
   "cell_type": "markdown",
   "id": "e0b3c463-05d8-445a-8d8f-2e6d583d058b",
   "metadata": {},
   "source": [
    "#### 3.2 扑克牌\n",
    "取到的牌的可能性总数：$(_5^{52})$ = 2598960\n",
    "* 最小牌型：\n",
    "  * $(_5^{13})(_1^4)(_1^4)(_1^4)(_1^4)(_1^4)$\n",
    "  * $\\frac{(_1^{52})(_1^{48})(_1^{44})(_1^{40})(_1^{36})}{5!}$\n",
    "    * 这里容易忘记除以 $5!$ ，此时可以求结果与第一次求出的结果的比值来确认。$\\color{yellow}{我们经常因为弄不清楚是否考虑次序而写错因子，但比值能帮助我们发现这些错误}$。\n",
    "* 对子\n",
    "  * $(_1^{13})(_2^{4})\\cdot(_3^{12})(_1^{4}) = 1098240$\n",
    "  * $(_5^{52}) = 2598960$\n",
    "  * $1098240 \\div 2598960 = 0.4225690$ <- 对子的概率\n",
    "* 两对\n",
    "  * $(_2^{13})(_2^4)^2(_1^{11})(_1^4) = 123552$\n",
    "  * $(_5^{52}) = 2598960$\n",
    "  * $123552 \\div 2598960 = 0.047539...$ <- 两对的概率\n",
    "* 三条\n",
    "  * $(_1^{13})(_3^4)(_2^{12})(_1^4)^2 = 54912$\n",
    "  * $(_5^{52}) = 2598960$\n",
    "  * $54912 \\div 2598960 = 0.0211285$ <- 三条的概率\n",
    "* 顺子\n",
    "  * $10 \\times 4^5 = 10240$ <- 所有顺子的个数（包含同花顺）\n",
    "  * $10 * 4 = 40$ <- 同花顺的个数\n",
    "  * $(10240 - 40) \\div 2598960 = 0.00394004$ <- 非同花的顺子的概率\n",
    "* 同花\n",
    "  * $(_1^4)(_5^{13}) = 5148$ <- 所有同花的个数（包含同花顺）\n",
    "  * $10 * 4 = 40$ <- 同花顺的个数\n",
    "  * $(5148 - 40) \\div 2598960 = 0.00019654...$ <- 非顺子的同花的概率\n",
    "* 葫芦\n",
    "  * $(_1^{13})(_3^4)(_1^{12})(_2^4) = 3744$\n",
    "  * $3744 \\div 2598960 = 0.00144058...$ <- 葫芦的概率\n",
    "* 铁支\n",
    "  * $(_1^{13})(_4^4)(_1^{48}) = 624$\n",
    "  * $624 \\div 2598960 = 0.000240096...$ <- 铁支的概率\n",
    "* 同花顺\n",
    "  * $10 * 4 = 40$ <- 同花顺的个数\n",
    "  * $40 \\div 2598960 = 0.0000153908...$ <- 同花顺的概率"
   ]
  },
  {
   "cell_type": "code",
   "execution_count": 8,
   "id": "57839984-6625-4095-a1e4-feef0404c170",
   "metadata": {},
   "outputs": [
    {
     "name": "stdout",
     "output_type": "stream",
     "text": [
      "Threory says probability 5 distinct number is 50.70828331332533%\n",
      "Observed probability is 50.72370000000001%\n"
     ]
    }
   ],
   "source": [
    "import random\n",
    "\n",
    "def nothing(num_do):\n",
    "    count = 0\n",
    "    deck = []\n",
    "\n",
    "    for i in range(1, 14):\n",
    "        for j in range(1, 5):\n",
    "            deck.append(i)\n",
    "\n",
    "    for n in range(1, num_do+1):\n",
    "        card = [0 for _ in range(0, 14)]\n",
    "        hand = random.sample(deck, 5)\n",
    "        for k in range(0, 5):\n",
    "            card[hand[k]] = 1\n",
    "        if sum(card) == 5:\n",
    "            count += 1\n",
    "\n",
    "    print(f\"Threory says probability 5 distinct number is {2112/41.65}%\")\n",
    "    print(f\"Observed probability is {(count/num_do) * 100.0}%\")\n",
    "\n",
    "nothing(1000000)"
   ]
  },
  {
   "cell_type": "code",
   "execution_count": 16,
   "id": "61534f84-09d6-421f-8743-3991ded10470",
   "metadata": {},
   "outputs": [
    {
     "name": "stdout",
     "output_type": "stream",
     "text": [
      "Probability of exactly two kings is 3.9929818081078583%\n",
      "Observed probability is 3.9992300000000003%\n"
     ]
    }
   ],
   "source": [
    "import random\n",
    "\n",
    "def twokings(num_do):\n",
    "    count = 0\n",
    "    deck = [1, 1, 1, 1]\n",
    "\n",
    "    for i in range(5, 53):\n",
    "        deck.append(0)\n",
    "\n",
    "    for n in range(1, num_do+1):\n",
    "        hand = random.sample(deck, 5)\n",
    "        if sum(hand) == 2:\n",
    "            count += 1\n",
    "\n",
    "    print(f\"Probability of exactly two kings is {2162/541.45}%\")\n",
    "    print(f\"Observed probability is {(count/num_do) * 100.0}%\")\n",
    "\n",
    "twokings(10000000)"
   ]
  },
  {
   "cell_type": "code",
   "execution_count": 17,
   "id": "0d477c7d-311a-4728-811c-a219854fd8b4",
   "metadata": {},
   "outputs": [
    {
     "name": "stdout",
     "output_type": "stream",
     "text": [
      "Theory says probability of one pair is 42.25690276110444%\n",
      "Observed probability is 42.26931%\n"
     ]
    }
   ],
   "source": [
    "import random\n",
    "\n",
    "def onepair(num_do):\n",
    "    count = 0\n",
    "    deck = []\n",
    "\n",
    "    for i in range(1, 14):\n",
    "        for j in range(1, 5):\n",
    "            deck.append(i)\n",
    "\n",
    "    for n in range(1, num_do+1):\n",
    "        card = [0 for _ in range(0, 14)]\n",
    "        hand = random.sample(deck, 5)\n",
    "        for k in range(0, 5):\n",
    "            card[hand[k]] = 1\n",
    "\n",
    "        if sum(card) == 4:\n",
    "            count += 1\n",
    "\n",
    "    print(f\"Theory says probability of one pair is {352/8.33}%\")\n",
    "    print(f\"Observed probability is {(count/num_do) * 100.0}%\")\n",
    "\n",
    "onepair(10000000)"
   ]
  },
  {
   "cell_type": "code",
   "execution_count": 3,
   "id": "2e09db87-d9c3-4417-81d6-ae185e0784ef",
   "metadata": {},
   "outputs": [
    {
     "name": "stdout",
     "output_type": "stream",
     "text": [
      "Percent of time got full house is 0.1464%\n",
      "The predictions were 0.144058% and 0.072029%\n"
     ]
    }
   ],
   "source": [
    "import random\n",
    "\n",
    "def fullhouse(num_do):\n",
    "    cards = []\n",
    "    fullhouse = 0\n",
    "\n",
    "    for i in range(1, 14):\n",
    "        for j in range(1, 5):\n",
    "            cards.append(i)\n",
    "\n",
    "    for n in range(1, num_do+1):\n",
    "        hand = random.sample(cards, 5)\n",
    "        hand.sort()\n",
    "        \n",
    "        if hand[0] == hand[1] and hand[3] == hand[4]:\n",
    "            if hand[2] == hand[1] or hand[2] == hand[4]:\n",
    "                fullhouse += 1\n",
    "\n",
    "    print(f\"Percent of time got full house is {fullhouse/num_do * 100}%\")\n",
    "    print(f\"The predictions were 0.144058% and 0.072029%\")\n",
    "\n",
    "fullhouse(1000000)"
   ]
  },
  {
   "cell_type": "markdown",
   "id": "a8db271b-bcc6-469b-8b3d-73fbe300357b",
   "metadata": {},
   "source": [
    "其余的问题暂时跳过，太多太啰嗦了不一定有帮助。"
   ]
  },
  {
   "cell_type": "code",
   "execution_count": null,
   "id": "48fab92d-5743-4b90-9d0f-3cc67cbda3f3",
   "metadata": {},
   "outputs": [],
   "source": []
  }
 ],
 "metadata": {
  "kernelspec": {
   "display_name": "Python 3 (ipykernel)",
   "language": "python",
   "name": "python3"
  },
  "language_info": {
   "codemirror_mode": {
    "name": "ipython",
    "version": 3
   },
   "file_extension": ".py",
   "mimetype": "text/x-python",
   "name": "python",
   "nbconvert_exporter": "python",
   "pygments_lexer": "ipython3",
   "version": "3.10.11"
  }
 },
 "nbformat": 4,
 "nbformat_minor": 5
}
