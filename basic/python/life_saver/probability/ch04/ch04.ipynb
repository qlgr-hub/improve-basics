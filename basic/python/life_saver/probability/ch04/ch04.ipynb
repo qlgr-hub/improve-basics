{
 "cells": [
  {
   "cell_type": "markdown",
   "id": "a22e3cb7-5cf6-43c0-a587-2aaf7fe503ca",
   "metadata": {},
   "source": [
    "### 第四章 - 条件概率、独立性和贝叶斯定理\n",
    "* 条件概率: 在已知其它事件发生的前提下，我们想知道某个事件发生的概率。"
   ]
  },
  {
   "cell_type": "markdown",
   "id": "67d3ab7d-6e1b-452d-baf5-a0d99b86460e",
   "metadata": {},
   "source": [
    "#### 4.1 条件概率\n",
    "* 在已知某个事件的前提下，我们考察的焦点会集中在样本空间的一个子集；这类的概率被称为 $\\color{yellow}{条件概率}$ 。\n",
    "* 期望计数法: 与其求概率的比值，不如考虑每个事件发生的期望次数，然后对他们就恰当的比值。\n",
    "* 直接计算法: $Pr(A|B) = \\frac{Pr(A\\cap B)}{Pr(A\\cap B) + Pr(A^c\\cap B)} = \\frac{Pr(A\\cap B)}{Pr(B)}$ 。\n",
    "* 条件概率: 设 $B$ 是满足条件 $Pr(B) > 0$ 的事件。那么已知 $B$ 时 $A$ 的条件概率就等于 $Pr(A|B) = \\frac{Pr(A\\cap B)}{Pr(B)}$ 。\n",
    "* 条件概率是正则概率的推广: 正则概率可以表示为 $Pr(A) = \\frac{Pr(A\\cap\\Omega)}{Pr(\\Omega)}$ 。\n",
    "* 文氏图: 画图形理解起来更形象。\n",
    "* 蒙提霍尔问题: 利用条件概率选择概率更高的。"
   ]
  },
  {
   "cell_type": "markdown",
   "id": "c5fbbb33-f0d0-4fb6-b0ac-2b3119bc08a6",
   "metadata": {},
   "source": [
    "#### 4.2 一般乘法法则\n",
    "* 一般乘法法则: $Pr(A\\cap B) = Pr(A|B) \\cdot Pr(B) , Pr(A\\cap B) = Pr(B|A) \\cdot Pr(A)$\n",
    "* 有时用条件概率公式求解问题更简单，有时用直接求解更简单。\n",
    "* 帽子问题和纠错码: 不需要额外信息的情况下检测到&修复错误。"
   ]
  },
  {
   "cell_type": "markdown",
   "id": "1f634e65-c109-4871-a7d6-1be4a0ee5bfb",
   "metadata": {},
   "source": [
    "#### 4.3 独立性\n",
    "* 独立性是概率论中最重要的概念之一。\n",
    "* 独立性: 如果 $Pr(A|B) = Pr(A)$ 则 $A$ 和 $B$ 是独立的。如果事件 $B$ 的发生不会改变事件 $A$ 发生的概率，那么 $A$ 和 $B$ 就是相互独立的。（不够严谨）\n",
    "* 如果事件 $A$ 和 $B$ 满足 $Pr(A\\cap B) = Pr(A)\\cdot Pr(B)$ 那么 $A$ 和 $B$ 就是独立的。（比起上一个 $Pr(B) = 0$ 、对称性等问题都考虑到了）\n",
    "* 考虑更多事件: 如果事件 $A_1,\\cdot\\cdot\\cdot,A_n$ ，满足\n",
    "  * (1) $Pr(A_1\\cap\\cdot\\cdot\\cdot\\cap A_n) = Pr(A_1)\\cdot\\cdot\\cdot Pr(A_n)$ ，并且\n",
    "  * (2) $\\{A_1,\\cdot\\cdot\\cdot,A_n\\}$ 的任意一个非空子集都是相互独立的，那么 $A_1,\\cdot\\cdot\\cdot,A_n$ 就是相互独立的。\n",
    "* 多个事件的场景需要警惕，会有虽然任意两两事件都是相互独立的，但是三个或更多事件却是相互依赖的。\n",
    "* 独立的一定是不相关的，但是不相关的不一定独立。独立性是要完全不相关，但是相关性只看线性相关与否。"
   ]
  },
  {
   "cell_type": "markdown",
   "id": "791ef671-1ebe-4387-95ce-cc0d5e6b1af9",
   "metadata": {},
   "source": [
    "#### 4.4 贝叶斯定理\n",
    "* 对于事件 $A$ 和 $B$ ，有 $Pr(B|A)\\cdot Pr(A) = Pr(A|B)\\cdot Pr(B)$ 。因此，只要 $Pr(B) \\neq 0$ ，就有 $Pr(A|B) = Pr(B|A)\\cdot\\frac{Pr(A)}{Pr(B)}$ 。（关键在可交换性）\n",
    "* 划分: 设 $B$ 是满足 $0 < Pr(B) < 1$ 的事件。于是，我们可以将事件 $A$ 划分成两个互不相交的事件，即 $A\\cap B$ 和 $A\\cap B^c$ ，而且有 $Pr(A) = Pr(A|B)Pr(B) + Pr(A|B^c)Pr(B^c)$ 。\n",
    "* 设 $\\{A_i\\} _{i=1}^n$ 是样本空间的一个划分，那么 $Pr(A|B) = \\frac{Pr(B|A)\\cdot Pr(A)}{\\sum\\limits_{i=1}^nPr(B|A_i)\\cdot Pr(A_i)}$ （通常情况下，$A$ 就是某个 $A_i$）。"
   ]
  },
  {
   "cell_type": "markdown",
   "id": "1b24eef0-75e8-4d7b-9722-be62bf40b45a",
   "metadata": {},
   "source": [
    "#### 4.5 划分和全概率法则\n",
    "* 贝叶斯定理 -> $Pr(A|B)$ 和 $Pr(B|A)$ 相互转换。（也可以看成 交换积分次序或交换求和与求导次序的过程）\n",
    "* 样本空间 $S$ 的一个 $\\color{yellow}{划分}$ 就是满足下列条件的可数个集合 $\\{A_1,A_2,\\cdot\\cdot\\cdot\\}$ 。\n",
    "  * 如果 $i \\neq j$ ，那么 $A_i$ 和 $A_j$ 不相交。我们通常用 $A_i\\cap A_j = \\emptyset$ 来表示这两个集合的交是空集。\n",
    "  * 全体 $A_i$ 的并就是整个样本空间: $\\cup_iA_i = S$ 。\n",
    "* 全概率法则: 如果 $\\{B_1,B_2,\\cdot\\cdot\\cdot\\}$ 构成了样本空间 $S$ 的一个划分（分成了至多可数个部分），那么对于任意的 $A\\in S$ ，有 $Pr(A) = \\sum\\limits_nPr(A|B_n)\\cdot Pr(B_n)$ （对于所有的 $n$ ，都应该有 $0 < Pr(B_n) < 1$）。"
   ]
  },
  {
   "cell_type": "code",
   "execution_count": null,
   "id": "b9ea376f-845f-42e3-a54e-28767ee7fde4",
   "metadata": {},
   "outputs": [],
   "source": []
  }
 ],
 "metadata": {
  "kernelspec": {
   "display_name": "Python 3 (ipykernel)",
   "language": "python",
   "name": "python3"
  },
  "language_info": {
   "codemirror_mode": {
    "name": "ipython",
    "version": 3
   },
   "file_extension": ".py",
   "mimetype": "text/x-python",
   "name": "python",
   "nbconvert_exporter": "python",
   "pygments_lexer": "ipython3",
   "version": "3.10.11"
  }
 },
 "nbformat": 4,
 "nbformat_minor": 5
}
