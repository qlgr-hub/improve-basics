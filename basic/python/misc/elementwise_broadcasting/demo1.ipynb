{
 "cells": [
  {
   "cell_type": "markdown",
   "id": "7c64f8d6-960d-40b7-abf5-b70f1c6f0417",
   "metadata": {},
   "source": [
    "ref: https://blog.csdn.net/dong_learning/article/details/117851046"
   ]
  },
  {
   "cell_type": "code",
   "execution_count": 6,
   "id": "f851868b-e4a8-4c88-af57-1321546c0187",
   "metadata": {},
   "outputs": [],
   "source": [
    "import torch\n",
    "\n",
    "t1 = torch.tensor([\n",
    "    [1, 2],\n",
    "    [3, 4]\n",
    "], dtype=torch.float32)\n",
    "\n",
    "t2 = torch.tensor([\n",
    "    [9, 8],\n",
    "    [7, 6]\n",
    "], dtype=torch.float32)"
   ]
  },
  {
   "cell_type": "code",
   "execution_count": 7,
   "id": "436f4b7b-b398-4c8c-b08e-255fe0d5ddba",
   "metadata": {},
   "outputs": [
    {
     "name": "stdout",
     "output_type": "stream",
     "text": [
      "tensor([[1., 2.],\n",
      "        [3., 4.]])\n"
     ]
    }
   ],
   "source": [
    "print(t1)"
   ]
  },
  {
   "cell_type": "code",
   "execution_count": 8,
   "id": "2309cbed-6777-48fc-9e4a-85331fe58e47",
   "metadata": {},
   "outputs": [
    {
     "name": "stdout",
     "output_type": "stream",
     "text": [
      "tensor([1., 2.])\n"
     ]
    }
   ],
   "source": [
    "print(t1[0])"
   ]
  },
  {
   "cell_type": "code",
   "execution_count": 9,
   "id": "572111f4-45c3-47d3-b262-f2af5dc15a4a",
   "metadata": {},
   "outputs": [
    {
     "name": "stdout",
     "output_type": "stream",
     "text": [
      "tensor(1.)\n"
     ]
    }
   ],
   "source": [
    "print(t1[0][0])"
   ]
  },
  {
   "cell_type": "code",
   "execution_count": 10,
   "id": "6a2fccda-526b-41ea-9cff-b740f252a976",
   "metadata": {},
   "outputs": [
    {
     "name": "stdout",
     "output_type": "stream",
     "text": [
      "tensor(9.)\n"
     ]
    }
   ],
   "source": [
    "print(t2[0][0])"
   ]
  },
  {
   "cell_type": "code",
   "execution_count": 11,
   "id": "716fb09d-bac6-4e64-b5ed-4756e15633e6",
   "metadata": {},
   "outputs": [
    {
     "name": "stdout",
     "output_type": "stream",
     "text": [
      "tensor([[10., 10.],\n",
      "        [10., 10.]])\n"
     ]
    }
   ],
   "source": [
    "print(t1 + t2)"
   ]
  },
  {
   "cell_type": "code",
   "execution_count": 12,
   "id": "b7fdea8c-7d37-4ffa-ae84-2d2f6fba674f",
   "metadata": {},
   "outputs": [
    {
     "name": "stdout",
     "output_type": "stream",
     "text": [
      "tensor([[3., 4.],\n",
      "        [5., 6.]])\n"
     ]
    }
   ],
   "source": [
    "print(t1 + 2)"
   ]
  },
  {
   "cell_type": "code",
   "execution_count": 13,
   "id": "aca0f7ac-ec95-4fba-82a0-4d1fdf2e6620",
   "metadata": {},
   "outputs": [
    {
     "name": "stdout",
     "output_type": "stream",
     "text": [
      "tensor([[-1.,  0.],\n",
      "        [ 1.,  2.]])\n"
     ]
    }
   ],
   "source": [
    "print(t1 - 2)"
   ]
  },
  {
   "cell_type": "code",
   "execution_count": 14,
   "id": "3fafa7bd-8896-4e2a-ac70-9efb3a9d8161",
   "metadata": {},
   "outputs": [
    {
     "name": "stdout",
     "output_type": "stream",
     "text": [
      "tensor([[2., 4.],\n",
      "        [6., 8.]])\n"
     ]
    }
   ],
   "source": [
    "print(t1 * 2)"
   ]
  },
  {
   "cell_type": "code",
   "execution_count": 15,
   "id": "aa85ed34-69a8-4025-90de-ef9bea2f4540",
   "metadata": {},
   "outputs": [
    {
     "name": "stdout",
     "output_type": "stream",
     "text": [
      "tensor([[0.5000, 1.0000],\n",
      "        [1.5000, 2.0000]])\n"
     ]
    }
   ],
   "source": [
    "print(t1 / 2)"
   ]
  },
  {
   "cell_type": "code",
   "execution_count": 16,
   "id": "525a1a05-637d-4a67-b72e-c55986c85f62",
   "metadata": {},
   "outputs": [
    {
     "name": "stdout",
     "output_type": "stream",
     "text": [
      "tensor([[3., 4.],\n",
      "        [5., 6.]])\n"
     ]
    }
   ],
   "source": [
    "print(t1.add(2))"
   ]
  },
  {
   "cell_type": "code",
   "execution_count": 17,
   "id": "244b664e-4de9-4387-9981-78325abbcc02",
   "metadata": {},
   "outputs": [
    {
     "name": "stdout",
     "output_type": "stream",
     "text": [
      "tensor([[-1.,  0.],\n",
      "        [ 1.,  2.]])\n"
     ]
    }
   ],
   "source": [
    "print(t1.sub(2))"
   ]
  },
  {
   "cell_type": "code",
   "execution_count": 18,
   "id": "fffee247-920b-4588-9b80-ff83388dd28c",
   "metadata": {},
   "outputs": [
    {
     "name": "stdout",
     "output_type": "stream",
     "text": [
      "tensor([[2., 4.],\n",
      "        [6., 8.]])\n"
     ]
    }
   ],
   "source": [
    "print(t1.mul(2))"
   ]
  },
  {
   "cell_type": "code",
   "execution_count": 19,
   "id": "b39f7816-7fb8-4b9f-be85-3d6b66aac39d",
   "metadata": {},
   "outputs": [
    {
     "name": "stdout",
     "output_type": "stream",
     "text": [
      "tensor([[0.5000, 1.0000],\n",
      "        [1.5000, 2.0000]])\n"
     ]
    }
   ],
   "source": [
    "print(t1.div(2))"
   ]
  },
  {
   "cell_type": "code",
   "execution_count": 20,
   "id": "6bbaf013-b0cd-4832-9215-79dff2e9d795",
   "metadata": {},
   "outputs": [
    {
     "data": {
      "text/plain": [
       "array([[2, 2],\n",
       "       [2, 2]])"
      ]
     },
     "execution_count": 20,
     "metadata": {},
     "output_type": "execute_result"
    }
   ],
   "source": [
    "import numpy as np\n",
    "\n",
    "np.broadcast_to(2, t1.shape)"
   ]
  },
  {
   "cell_type": "code",
   "execution_count": 21,
   "id": "a55aa442-73f3-4a8c-b4e3-c4501221bb24",
   "metadata": {},
   "outputs": [
    {
     "data": {
      "text/plain": [
       "tensor([[3., 4.],\n",
       "        [5., 6.]])"
      ]
     },
     "execution_count": 21,
     "metadata": {},
     "output_type": "execute_result"
    }
   ],
   "source": [
    "t1 + torch.tensor(\n",
    "    np.broadcast_to(2, t1.shape),\n",
    "    dtype=torch.float32\n",
    ")"
   ]
  },
  {
   "cell_type": "code",
   "execution_count": 22,
   "id": "54fb68a0-2c9a-4dc8-9db9-9f214d222f0f",
   "metadata": {},
   "outputs": [],
   "source": [
    "t1 = torch.tensor([\n",
    "    [1, 1],\n",
    "    [1, 1]\n",
    "], dtype=torch.float32)\n",
    "\n",
    "t2 = torch.tensor([2, 4], dtype=torch.float32)"
   ]
  },
  {
   "cell_type": "code",
   "execution_count": 23,
   "id": "e3a2078e-1d8b-41f4-aa26-2214be31dfb8",
   "metadata": {},
   "outputs": [
    {
     "data": {
      "text/plain": [
       "tensor([[3., 5.],\n",
       "        [3., 5.]])"
      ]
     },
     "execution_count": 23,
     "metadata": {},
     "output_type": "execute_result"
    }
   ],
   "source": [
    "t1 + t2"
   ]
  },
  {
   "cell_type": "code",
   "execution_count": 24,
   "id": "5b63e2c9-c710-4334-84c2-919a7b987db1",
   "metadata": {},
   "outputs": [
    {
     "data": {
      "text/plain": [
       "torch.Size([2, 2])"
      ]
     },
     "execution_count": 24,
     "metadata": {},
     "output_type": "execute_result"
    }
   ],
   "source": [
    "t1.shape"
   ]
  },
  {
   "cell_type": "code",
   "execution_count": 25,
   "id": "56d0dac1-be30-4768-a61b-018b013631b3",
   "metadata": {},
   "outputs": [
    {
     "data": {
      "text/plain": [
       "torch.Size([2])"
      ]
     },
     "execution_count": 25,
     "metadata": {},
     "output_type": "execute_result"
    }
   ],
   "source": [
    "t2.shape"
   ]
  },
  {
   "cell_type": "code",
   "execution_count": 28,
   "id": "65d473bb-9cac-4c2a-bf4b-0b88a8ef8d04",
   "metadata": {},
   "outputs": [
    {
     "name": "stdout",
     "output_type": "stream",
     "text": [
      "tensor([[2., 4.],\n",
      "        [2., 4.]])\n"
     ]
    }
   ],
   "source": [
    "t3 = torch.tensor(np.broadcast_to(t2, t1.shape))\n",
    "print(t3)"
   ]
  },
  {
   "cell_type": "code",
   "execution_count": 29,
   "id": "bdd0a475-db94-4dcd-a7f3-9f73b1f1cc97",
   "metadata": {},
   "outputs": [
    {
     "data": {
      "text/plain": [
       "tensor([[3., 5.],\n",
       "        [3., 5.]])"
      ]
     },
     "execution_count": 29,
     "metadata": {},
     "output_type": "execute_result"
    }
   ],
   "source": [
    "t1 + t3"
   ]
  },
  {
   "cell_type": "code",
   "execution_count": 30,
   "id": "53991c1f-5e7d-49c6-9729-6732e9c99e93",
   "metadata": {},
   "outputs": [
    {
     "data": {
      "text/plain": [
       "tensor([ True, False, False])"
      ]
     },
     "execution_count": 30,
     "metadata": {},
     "output_type": "execute_result"
    }
   ],
   "source": [
    "torch.tensor([1, 2, 3]) < torch.tensor([3, 1, 2])"
   ]
  },
  {
   "cell_type": "code",
   "execution_count": null,
   "id": "06e58a25-ffb8-434c-a646-be77943b5a23",
   "metadata": {},
   "outputs": [],
   "source": []
  }
 ],
 "metadata": {
  "kernelspec": {
   "display_name": "Python 3 (ipykernel)",
   "language": "python",
   "name": "python3"
  },
  "language_info": {
   "codemirror_mode": {
    "name": "ipython",
    "version": 3
   },
   "file_extension": ".py",
   "mimetype": "text/x-python",
   "name": "python",
   "nbconvert_exporter": "python",
   "pygments_lexer": "ipython3",
   "version": "3.10.13"
  }
 },
 "nbformat": 4,
 "nbformat_minor": 5
}
